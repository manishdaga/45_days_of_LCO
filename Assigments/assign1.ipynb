{
 "cells": [
  {
   "cell_type": "markdown",
   "metadata": {},
   "source": [
    "###  Q1: Write a Program to print the table\n",
    "* take input from user and print that table\n",
    "\n",
    "</br></br></br></br>\n",
    "\n",
    "### Q2: Write a Program Reverse the String\n",
    "test case:\n",
    "\n",
    "input : \"iwritecode\"\n",
    "\n",
    "output: \"edocetirwi\"\n",
    "\n",
    "</br></br></br></br>\n",
    "\n",
    "### Q3: Write a program to mix two string in alternate manner.\n",
    "\n",
    "test case:\n",
    "\n",
    "input : str1=\"apple\",  str2=\"orange\"\n",
    "\n",
    "output : \"aoprpalnege\"\n",
    "\n",
    "</br></br></br></br>\n",
    "\n",
    "### Q4: Make a Program Simple Loan Calculator\n",
    "* take the loan ammount and time period from user as input\n",
    "* caculate the interest at 4%\n",
    "* finally print the total ammount the customer will have pay.\n",
    "\n",
    "</br></br></br></br>\n",
    "\n",
    "### Q5: Print it out\n",
    "\n"
   ]
  },
  {
   "cell_type": "markdown",
   "metadata": {},
   "source": [
    "## Q1-Solution"
   ]
  },
  {
   "cell_type": "code",
   "execution_count": 1,
   "metadata": {},
   "outputs": [
    {
     "name": "stdout",
     "output_type": "stream",
     "text": [
      "Table of a no.\n"
     ]
    },
    {
     "name": "stdin",
     "output_type": "stream",
     "text": [
      "Enter the no. which you want table 2\n"
     ]
    },
    {
     "name": "stdout",
     "output_type": "stream",
     "text": [
      "2 * 1 = 2\n",
      "2 * 2 = 4\n",
      "2 * 3 = 6\n",
      "2 * 4 = 8\n",
      "2 * 5 = 10\n",
      "2 * 6 = 12\n",
      "2 * 7 = 14\n",
      "2 * 8 = 16\n",
      "2 * 9 = 18\n",
      "2 * 10 = 20\n"
     ]
    }
   ],
   "source": [
    "print(\"Table of a no.\")\n",
    "n=int(input(\"Enter the no. which you want table\"))\n",
    "for i in range(1,11):\n",
    "    print(n,\"*\",i,\"=\",n*i)"
   ]
  },
  {
   "cell_type": "markdown",
   "metadata": {},
   "source": [
    "## Q2-Solution"
   ]
  },
  {
   "cell_type": "code",
   "execution_count": 2,
   "metadata": {},
   "outputs": [
    {
     "name": "stdout",
     "output_type": "stream",
     "text": [
      "Reverse Of a string\n"
     ]
    },
    {
     "name": "stdin",
     "output_type": "stream",
     "text": [
      "Enter String Tanmaya\n"
     ]
    },
    {
     "name": "stdout",
     "output_type": "stream",
     "text": [
      "ayamnaT\n"
     ]
    }
   ],
   "source": [
    "print(\"Reverse Of a string\")\n",
    "str1=input(\"Enter String\")\n",
    "strrev=str1[::-1]\n",
    "print(strrev)"
   ]
  },
  {
   "cell_type": "markdown",
   "metadata": {},
   "source": [
    "## Q3- Solution"
   ]
  },
  {
   "cell_type": "code",
   "execution_count": 3,
   "metadata": {},
   "outputs": [
    {
     "name": "stdout",
     "output_type": "stream",
     "text": [
      "Mixing 2 Strings in alternate form\n"
     ]
    },
    {
     "name": "stdin",
     "output_type": "stream",
     "text": [
      "Enter String 1 Hello\n",
      "Enter String 2 World\n"
     ]
    },
    {
     "name": "stdout",
     "output_type": "stream",
     "text": [
      "H W e o l r l l o d "
     ]
    }
   ],
   "source": [
    "print(\"Mixing 2 Strings in alternate form\")\n",
    "str1=input(\"Enter String 1\")\n",
    "str2=input(\"Enter String 2\")\n",
    "len1=len(str1)\n",
    "len2=len(str2)\n",
    "if len1 > len2 :\n",
    "    n=len1\n",
    "else: n=len2\n",
    "for i in range(n):\n",
    "    print(str1[i],str2[i],end=\" \")"
   ]
  },
  {
   "cell_type": "markdown",
   "metadata": {},
   "source": [
    "## Q4- Solution"
   ]
  },
  {
   "cell_type": "code",
   "execution_count": 4,
   "metadata": {},
   "outputs": [
    {
     "name": "stdout",
     "output_type": "stream",
     "text": [
      "Loan Calculator\n"
     ]
    },
    {
     "name": "stdin",
     "output_type": "stream",
     "text": [
      "Enter the amount you want 1000\n",
      "Enter the time period  4\n"
     ]
    },
    {
     "name": "stdout",
     "output_type": "stream",
     "text": [
      "The amount of simple interest on  1000 amount is 160.0\n",
      "So you have to pay  1160.0 Rs\n"
     ]
    }
   ],
   "source": [
    "print(\"Loan Calculator\")\n",
    "P=int(input(\"Enter the amount you want\"))\n",
    "R=4 #Given\n",
    "T=int(input(\"Enter the time period \"))\n",
    "SI=(P*R*T)/100\n",
    "print(\"The amount of simple interest on \",P,\"amount is\",SI)\n",
    "print(\"So you have to pay \",P+SI,\"Rs\")"
   ]
  },
  {
   "cell_type": "markdown",
   "metadata": {},
   "source": [
    "## Q5- Solution"
   ]
  },
  {
   "cell_type": "code",
   "execution_count": 9,
   "metadata": {},
   "outputs": [
    {
     "name": "stdout",
     "output_type": "stream",
     "text": [
      "\\\\\n",
      "       \n",
      "\n",
      "  \\\\\n",
      "     \n",
      "\n",
      "    \\\\\n",
      "   \n",
      "\n",
      "      \\\\\n",
      " \n",
      "\n",
      "       //\n",
      "\n",
      "     //  \n",
      "\n",
      "   //    \n",
      "\n",
      " //      \n",
      "\n"
     ]
    }
   ],
   "source": [
    "for row in range(0,8):\n",
    "    for col in range(0,4):\n",
    "        if col-row==0 :\n",
    "            print(\"\\\\\\\\\")\n",
    "        else :\n",
    "            print(\" \",end='')\n",
    "        if col+row==7:\n",
    "            print(\"//\",end='')\n",
    "        else :print(\" \",end='')\n",
    "    print(\"\\n\")       \n",
    "            \n",
    "            "
   ]
  },
  {
   "cell_type": "code",
   "execution_count": null,
   "metadata": {},
   "outputs": [],
   "source": []
  }
 ],
 "metadata": {
  "kernelspec": {
   "display_name": "Python 3",
   "language": "python",
   "name": "python3"
  },
  "language_info": {
   "codemirror_mode": {
    "name": "ipython",
    "version": 3
   },
   "file_extension": ".py",
   "mimetype": "text/x-python",
   "name": "python",
   "nbconvert_exporter": "python",
   "pygments_lexer": "ipython3",
   "version": "3.7.3"
  }
 },
 "nbformat": 4,
 "nbformat_minor": 2
}
