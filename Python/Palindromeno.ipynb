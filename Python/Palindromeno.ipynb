{
 "cells": [
  {
   "cell_type": "markdown",
   "metadata": {},
   "source": [
    "## Palindrome no."
   ]
  },
  {
   "cell_type": "code",
   "execution_count": 1,
   "metadata": {},
   "outputs": [
    {
     "name": "stdout",
     "output_type": "stream",
     "text": [
      "Enter A No.22\n",
      "22 is a palindrome no.\n"
     ]
    }
   ],
   "source": [
    "#Method 1\n",
    "n=input(\"Enter A No.\")\n",
    "rev=n[::-1]\n",
    "if rev == n:\n",
    "    print(n +\" is a palindrome no.\")\n",
    "else: print(n +\" is not a palindrome no.\")    "
   ]
  },
  {
   "cell_type": "code",
   "execution_count": 2,
   "metadata": {},
   "outputs": [
    {
     "name": "stdout",
     "output_type": "stream",
     "text": [
      "Enter a no.12\n",
      "12  is not a palindrome no.\n"
     ]
    }
   ],
   "source": [
    "#method 2\n",
    "n= int(input(\"Enter a no.\"))\n",
    "n1=n\n",
    "rev = 0       \n",
    "while(n > 0):    \n",
    "    Rem = n % 10    \n",
    "    rev = (rev *10) + Rem   \n",
    "    n = n //10   \n",
    "if rev == n1:\n",
    "    print(n1,\" is palindrome no.\")\n",
    "else : print(n1,\" is not a palindrome no.\")    "
   ]
  },
  {
   "cell_type": "code",
   "execution_count": 3,
   "metadata": {},
   "outputs": [
    {
     "data": {
      "text/plain": [
       "'eghghg121'"
      ]
     },
     "execution_count": 3,
     "metadata": {},
     "output_type": "execute_result"
    }
   ],
   "source": [
    "d=\"121ghghge\"\n",
    "d[-1::-1]"
   ]
  },
  {
   "cell_type": "code",
   "execution_count": null,
   "metadata": {},
   "outputs": [],
   "source": []
  }
 ],
 "metadata": {
  "kernelspec": {
   "display_name": "Python 3",
   "language": "python",
   "name": "python3"
  },
  "language_info": {
   "codemirror_mode": {
    "name": "ipython",
    "version": 3
   },
   "file_extension": ".py",
   "mimetype": "text/x-python",
   "name": "python",
   "nbconvert_exporter": "python",
   "pygments_lexer": "ipython3",
   "version": "3.7.3"
  }
 },
 "nbformat": 4,
 "nbformat_minor": 2
}
