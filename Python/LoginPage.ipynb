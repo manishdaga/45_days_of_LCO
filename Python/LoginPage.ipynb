{
 "cells": [
  {
   "cell_type": "markdown",
   "metadata": {},
   "source": [
    "## Sign Up Page"
   ]
  },
  {
   "cell_type": "markdown",
   "metadata": {},
   "source": [
    "#Module 1 :- Name,LastName,UserName"
   ]
  },
  {
   "cell_type": "code",
   "execution_count": 1,
   "metadata": {},
   "outputs": [
    {
     "name": "stdout",
     "output_type": "stream",
     "text": [
      "Enter First Name: \n",
      "NoneManish\n",
      "Enter Last Name:\n",
      "NoneDaga\n",
      "Enter your User Name\n",
      "Nonemanish\n"
     ]
    }
   ],
   "source": [
    "FirstName=input(print(\"Enter First Name: \"))\n",
    "LastName=input(print(\"Enter Last Name:\"))\n",
    "UserName=input(print(\"Enter your User Name\"))\n"
   ]
  },
  {
   "cell_type": "markdown",
   "metadata": {},
   "source": [
    "#Module 2 :- Password"
   ]
  },
  {
   "cell_type": "code",
   "execution_count": 2,
   "metadata": {},
   "outputs": [
    {
     "name": "stdout",
     "output_type": "stream",
     "text": [
      "Enter Password········\n",
      "Not a Valid Password\n",
      "Confirm Password········\n",
      "Password Confirmed\n"
     ]
    }
   ],
   "source": [
    "import getpass\n",
    "import re\n",
    "\n",
    "password= getpass.getpass(\"Enter Password\")  #fxn used for th password\n",
    "flag = 0\n",
    "while True:   \n",
    "    if (len(password)<8): \n",
    "        flag = -1\n",
    "        break\n",
    "    elif not re.search(\"[a-z]\", password): \n",
    "        flag = -1\n",
    "        break\n",
    "    elif not re.search(\"[A-Z]\", password): \n",
    "        flag = -1\n",
    "        break\n",
    "    elif not re.search(\"[0-9]\", password): \n",
    "        flag = -1\n",
    "        break\n",
    "    elif not re.search(\"[_@$]\", password): \n",
    "        flag = -1\n",
    "        break\n",
    "    elif re.search(\"\\s\", password): \n",
    "        flag = -1\n",
    "        break\n",
    "    else: \n",
    "        flag = 0\n",
    "        print(\"Valid Password\") \n",
    "        break\n",
    "\n",
    "if flag == -1: \n",
    "    print(\"Not a Valid Password\") \n",
    "ConfirmPassword= getpass.getpass(\"Confirm Password\")\n",
    "if ConfirmPassword == password:\n",
    "    print(\"Password Confirmed\")\n",
    "else :print(\"Incorrect Password\")    \n",
    "    "
   ]
  },
  {
   "cell_type": "code",
   "execution_count": 3,
   "metadata": {},
   "outputs": [
    {
     "name": "stdout",
     "output_type": "stream",
     "text": [
      "Enter Password········\n",
      "User Name: manish\n",
      "Password entered: manish\n"
     ]
    }
   ],
   "source": [
    "#Passwoed \n",
    "import getpass \n",
    "\n",
    "user = getpass.getuser()\n",
    "p = getpass.getpass(\"Enter Password\")\n",
    "print(\"User Name:\",user)\n",
    "print(\"Password entered:\", p)\n",
    "   "
   ]
  },
  {
   "cell_type": "markdown",
   "metadata": {},
   "source": [
    "#Module 3:- Contact No. & Email"
   ]
  },
  {
   "cell_type": "code",
   "execution_count": 4,
   "metadata": {},
   "outputs": [
    {
     "name": "stdout",
     "output_type": "stream",
     "text": [
      "Enter Contact No.6378177023\n",
      "Enter Recovery Emailmanishdagamanish@gmail.com\n",
      "This is a valid email address\n"
     ]
    }
   ],
   "source": [
    "import re\n",
    "ContactNo=int(input(\"Enter Contact No.\"))\n",
    "REmail=input(\"Enter Recovery Email\") \n",
    "\n",
    "#Email Validation\n",
    "def isValidEmail(REmail):\n",
    "    if len(REmail) > 7:\n",
    "        if(re.search(r'\\b[A-Z0-9._%+-]+@[A-Z0-9.-]+\\.[A-Z]{2,}\\b', REmail, re.I)):\n",
    "            return True\n",
    "        else: return False\n",
    "        print(match.group())\n",
    "    else: return False    \n",
    "\n",
    "if isValidEmail(REmail) == True :\n",
    "    print(\"This is a valid email address\") \n",
    "else:\n",
    "    print(\"This is not a valid email address\") "
   ]
  },
  {
   "cell_type": "code",
   "execution_count": null,
   "metadata": {},
   "outputs": [],
   "source": []
  },
  {
   "cell_type": "markdown",
   "metadata": {},
   "source": [
    "## Details User Entered"
   ]
  },
  {
   "cell_type": "markdown",
   "metadata": {},
   "source": [
    "## ********** Sign Up Page **********"
   ]
  },
  {
   "cell_type": "code",
   "execution_count": 5,
   "metadata": {},
   "outputs": [
    {
     "name": "stdout",
     "output_type": "stream",
     "text": [
      "*****************************************************************************************************************************\n",
      "\n",
      "\n",
      "**************************************************  Sign Up Page  *********************************************************** \n",
      "\n",
      "\n",
      "\n",
      "*****************************************************************************************************************************\n",
      "\n",
      "\n",
      "\n",
      "      First Name:     Manish                      Last Name:  Daga\n",
      "\n",
      "\n",
      "      User Name:      manish\n",
      "\n",
      "\n",
      "      Password:       12345\n",
      "\n",
      "\n",
      "      Contact No.:    6378177023\n",
      "\n",
      "\n",
      "      Recovery Email: manishdagamanish@gmail.com\n"
     ]
    }
   ],
   "source": [
    "print(\"*\"*125)\n",
    "print(\"\\n\")\n",
    "print(\"*\" *50 , \" Sign Up Page \", \"*\" *59,\"\\n\")\n",
    "print(\"\\n\")\n",
    "print(\"*\"*125)\n",
    "print(\"\\n\\n\")\n",
    "print(\" \" *5,\"First Name:    \",FirstName,\" \"*15,\"     Last Name: \",LastName)\n",
    "print(\"\\n\")\n",
    "print(\" \" *5,\"User Name:     \",UserName)\n",
    "print(\"\\n\")\n",
    "print(\" \" *5,\"Password:      \",password)\n",
    "print(\"\\n\")\n",
    "print(\" \" *5,\"Contact No.:   \",ContactNo)\n",
    "print(\"\\n\")\n",
    "print(\" \" *5,\"Recovery Email:\",REmail)"
   ]
  },
  {
   "cell_type": "markdown",
   "metadata": {},
   "source": []
  },
  {
   "cell_type": "code",
   "execution_count": null,
   "metadata": {},
   "outputs": [],
   "source": []
  }
 ],
 "metadata": {
  "kernelspec": {
   "display_name": "Python 3",
   "language": "python",
   "name": "python3"
  },
  "language_info": {
   "codemirror_mode": {
    "name": "ipython",
    "version": 3
   },
   "file_extension": ".py",
   "mimetype": "text/x-python",
   "name": "python",
   "nbconvert_exporter": "python",
   "pygments_lexer": "ipython3",
   "version": "3.7.3"
  }
 },
 "nbformat": 4,
 "nbformat_minor": 2
}
