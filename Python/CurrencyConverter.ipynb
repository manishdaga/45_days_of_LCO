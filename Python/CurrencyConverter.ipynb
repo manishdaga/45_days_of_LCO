{
 "cells": [
  {
   "cell_type": "markdown",
   "metadata": {},
   "source": [
    "## Currency Converter"
   ]
  },
  {
   "cell_type": "code",
   "execution_count": 1,
   "metadata": {},
   "outputs": [],
   "source": [
    "#Some Functions to convert some of currencies\n",
    "# Here we take Rupees,Dollars,Euros,Yen\n",
    "\n",
    "def R_TO_D(R):\n",
    "    D=R*(1/70.01)\n",
    "    print(D,\"USD are corresponds to Rs.\",R)\n",
    "\n",
    "def D_TO_R(D):\n",
    "    R=D*(70.01)\n",
    "    print(\"Rs.\",R,\" are corresponds to \",D,\"USD\")\n",
    "\n",
    "def R_TO_E(R):\n",
    "    E=R*(1/78.32)\n",
    "    print(E,\"Euro are corresponds to Rs.\",R)\n",
    "    \n",
    "def E_TO_R(E):\n",
    "    R=E*(78.32)\n",
    "    print(\"Rs.\",R,\" are corresponds to \",E,\"Euro\")\n",
    "\n",
    "def R_TO_Y(R):\n",
    "    Y=R*(1/10.6)\n",
    "    print(Y,\"Yuan are corresponds to Rs.\",R)\n",
    "\n",
    "def Y_TO_R(Y):\n",
    "    R=Y*10.6\n",
    "    print(\"Rs.\",R,\" are corresponds to \",Y,\"Yuan\")\n",
    "         \n",
    "         \n",
    "         \n"
   ]
  },
  {
   "cell_type": "code",
   "execution_count": 2,
   "metadata": {},
   "outputs": [
    {
     "name": "stdout",
     "output_type": "stream",
     "text": [
      "                                        Currency Converter\n",
      "Choose a conversion:\n",
      " 1. Rupees To Dollars \n",
      " 2. Dollars To Rupees \n",
      " 3. Euros To Rupees \n",
      " 4. Rupees To Euros\n",
      "5. Rupees To Yuan \n",
      " 6. Yuan To Rupees \n",
      "Enter your choice1\n",
      "Enter the amount of Rupees: 100\n",
      "1.42836737608913 USD are corresponds to Rs. 100.0\n"
     ]
    }
   ],
   "source": [
    "# Hera we take inputs from user & then Call the above functions\n",
    "print(\" \"*40+\"Currency Converter\")\n",
    "print(\"Choose a conversion:\\n 1. Rupees To Dollars \\n 2. Dollars To Rupees \\n 3. Euros To Rupees \\n 4. Rupees To Euros\")\n",
    "print(\"5. Rupees To Yuan \\n 6. Yuan To Rupees \")\n",
    "\n",
    "n=input(\"Enter your choice\")\n",
    "\n",
    "if int(n)==1:\n",
    "    R=float(input(\"Enter the amount of Rupees: \"))\n",
    "    R_TO_D(R)\n",
    "elif int(n)==2:    \n",
    "    D=float(input(\"Enter the amount of Dollars: \"))\n",
    "    D_TO_R(D)\n",
    "elif int(n)==3:\n",
    "    R=float(input(\"Enter the amount of Euros: \"))\n",
    "    E_TO_R(E)\n",
    "elif int(n)==4:\n",
    "    R=float(input(\"Enter the amount of Rupees: \"))\n",
    "    R_TO_E(R)\n",
    "elif int(n)==5:\n",
    "    R=float(input(\"Enter the amount of Rupees: \"))\n",
    "    R_TO_Y(R)\n",
    "elif int(n)==6:\n",
    "    Y=float(input(\"Enter the amount of Yuans: \"))\n",
    "    Y_TO_R(Y)"
   ]
  },
  {
   "cell_type": "code",
   "execution_count": 3,
   "metadata": {},
   "outputs": [],
   "source": []
  },
  {
   "cell_type": "code",
   "execution_count": null,
   "metadata": {},
   "outputs": [],
   "source": []
  }
 ],
 "metadata": {
  "kernelspec": {
   "display_name": "Python 3",
   "language": "python",
   "name": "python3"
  },
  "language_info": {
   "codemirror_mode": {
    "name": "ipython",
    "version": 3
   },
   "file_extension": ".py",
   "mimetype": "text/x-python",
   "name": "python",
   "nbconvert_exporter": "python",
   "pygments_lexer": "ipython3",
   "version": "3.7.3"
  }
 },
 "nbformat": 4,
 "nbformat_minor": 2
}
