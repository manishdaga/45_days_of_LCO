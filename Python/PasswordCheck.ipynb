{
 "cells": [
  {
   "cell_type": "markdown",
   "metadata": {},
   "source": [
    "## Function"
   ]
  },
  {
   "cell_type": "code",
   "execution_count": 1,
   "metadata": {},
   "outputs": [],
   "source": [
    "def print_table(number):\n",
    "    for i in range(1,11):\n",
    "        print(str(number)+\" * \"+str(i)+\" = \"+str(i*number))"
   ]
  },
  {
   "cell_type": "code",
   "execution_count": 3,
   "metadata": {},
   "outputs": [
    {
     "name": "stdout",
     "output_type": "stream",
     "text": [
      "10 * 1 = 10\n",
      "10 * 2 = 20\n",
      "10 * 3 = 30\n",
      "10 * 4 = 40\n",
      "10 * 5 = 50\n",
      "10 * 6 = 60\n",
      "10 * 7 = 70\n",
      "10 * 8 = 80\n",
      "10 * 9 = 90\n",
      "10 * 10 = 100\n"
     ]
    }
   ],
   "source": [
    "print_table(10)"
   ]
  },
  {
   "cell_type": "markdown",
   "metadata": {},
   "source": [
    "## Function to chek ASCII value & type of character"
   ]
  },
  {
   "cell_type": "code",
   "execution_count": 4,
   "metadata": {},
   "outputs": [],
   "source": [
    "\n",
    "def checktype(char):\n",
    "    print(\"ASCCI vale of \"+char+\" is \",ord(char) )\n",
    "    if ord(char) in range(65,91):\n",
    "        print(char + \" is a uppercase letter\")\n",
    "    elif ord(char) in range(97,123):\n",
    "        print(char + \" is a lowercase letter\")\n",
    "    elif ( ord(char) in range(33,48) ) or ( ord(char) == 65 ):\n",
    "        print(char + \" is a special character\")\n",
    "    elif ord(char) in range(47,58):\n",
    "        print(char + \" is a numeric no.\")"
   ]
  },
  {
   "cell_type": "code",
   "execution_count": 5,
   "metadata": {},
   "outputs": [
    {
     "name": "stdout",
     "output_type": "stream",
     "text": [
      "ASCCI vale of 2 is  50\n",
      "2 is a numeric no.\n"
     ]
    }
   ],
   "source": [
    "checktype('2')"
   ]
  },
  {
   "cell_type": "markdown",
   "metadata": {},
   "source": [
    "## Check for a password using ASCII values of the password"
   ]
  },
  {
   "cell_type": "code",
   "execution_count": 6,
   "metadata": {},
   "outputs": [],
   "source": [
    "count=False\n",
    "Sepcialchar=False\n",
    "Numeric=False\n",
    "Upper=False\n",
    "Lower=False\n",
    "def password(p):\n",
    "    for i in p:\n",
    "        if len(p) >=8:\n",
    "            count=True\n",
    "        if ord(i) in range(65,91):\n",
    "            Upper=True\n",
    "        if ord(i) in range(97,123):\n",
    "            Lower=True\n",
    "        if ( ord(i) in range(33,48) ) or ( ord(i) == 65 ):\n",
    "            Special=True\n",
    "        if ord(i) in range(47,58):\n",
    "            Numeric=True\n",
    "    \n",
    "    if count== True and Upper==True and Lower==True and Special==True and Numeric==True:\n",
    "        print(p+\" is a valid password\")\n",
    "    else:\n",
    "        print(p+\" is a invalid Password\")\n",
    "        "
   ]
  },
  {
   "cell_type": "code",
   "execution_count": null,
   "metadata": {},
   "outputs": [],
   "source": [
    "p = input(\"Enter a password min 8 characters\")\n",
    "password(p)"
   ]
  },
  {
   "cell_type": "code",
   "execution_count": null,
   "metadata": {},
   "outputs": [],
   "source": []
  }
 ],
 "metadata": {
  "kernelspec": {
   "display_name": "Python 3",
   "language": "python",
   "name": "python3"
  },
  "language_info": {
   "codemirror_mode": {
    "name": "ipython",
    "version": 3
   },
   "file_extension": ".py",
   "mimetype": "text/x-python",
   "name": "python",
   "nbconvert_exporter": "python",
   "pygments_lexer": "ipython3",
   "version": "3.7.3"
  }
 },
 "nbformat": 4,
 "nbformat_minor": 2
}
