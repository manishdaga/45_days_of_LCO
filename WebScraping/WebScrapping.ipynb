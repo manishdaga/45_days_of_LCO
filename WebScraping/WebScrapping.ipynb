{
 "cells": [
  {
   "cell_type": "markdown",
   "metadata": {},
   "source": [
    "## Web Scraping"
   ]
  },
  {
   "cell_type": "code",
   "execution_count": 1,
   "metadata": {},
   "outputs": [],
   "source": [
    "from bs4 import BeautifulSoup\n",
    "import requests"
   ]
  },
  {
   "cell_type": "code",
   "execution_count": 2,
   "metadata": {},
   "outputs": [],
   "source": [
    "url=\"https://en.wikipedia.org/wiki/Python_(programming_language)\"\n",
    "raw_data=requests.get(url)"
   ]
  },
  {
   "cell_type": "code",
   "execution_count": 3,
   "metadata": {},
   "outputs": [],
   "source": [
    "data=raw_data.content"
   ]
  },
  {
   "cell_type": "code",
   "execution_count": 4,
   "metadata": {},
   "outputs": [],
   "source": [
    "bs=BeautifulSoup(data,\"lxml\") #convert data to lxml readable formate"
   ]
  },
  {
   "cell_type": "code",
   "execution_count": 5,
   "metadata": {},
   "outputs": [],
   "source": [
    "g=bs.find_all(\"table\",{\"class\":\"infobox vevent\"}) #gives all the p tags in the page"
   ]
  },
  {
   "cell_type": "code",
   "execution_count": 6,
   "metadata": {},
   "outputs": [
    {
     "data": {
      "text/plain": [
       "bs4.element.ResultSet"
      ]
     },
     "execution_count": 6,
     "metadata": {},
     "output_type": "execute_result"
    }
   ],
   "source": [
    "type(g)"
   ]
  },
  {
   "cell_type": "code",
   "execution_count": 7,
   "metadata": {},
   "outputs": [
    {
     "data": {
      "text/plain": [
       "1"
      ]
     },
     "execution_count": 7,
     "metadata": {},
     "output_type": "execute_result"
    }
   ],
   "source": [
    "#g\n",
    "len(g)"
   ]
  },
  {
   "cell_type": "code",
   "execution_count": 8,
   "metadata": {},
   "outputs": [
    {
     "data": {
      "text/plain": [
       "[<th scope=\"row\"><a href=\"/wiki/Programming_paradigm\" title=\"Programming paradigm\">Paradigm</a></th>,\n",
       " <th scope=\"row\"><a href=\"/wiki/Software_design\" title=\"Software design\">Designed by</a></th>,\n",
       " <th scope=\"row\"><a class=\"mw-redirect\" href=\"/wiki/Software_developer\" title=\"Software developer\">Developer</a></th>,\n",
       " <th scope=\"row\">First appeared</th>,\n",
       " <th scope=\"row\" style=\"white-space: nowrap;\"><a href=\"/wiki/Software_release_life_cycle\" title=\"Software release life cycle\">Stable release</a></th>,\n",
       " <th scope=\"row\"><a href=\"/wiki/Type_system\" title=\"Type system\">Typing discipline</a></th>,\n",
       " <th scope=\"row\"><a href=\"/wiki/Software_license\" title=\"Software license\">License</a></th>,\n",
       " <th scope=\"row\"><a href=\"/wiki/Filename_extension\" title=\"Filename extension\">Filename extensions</a></th>,\n",
       " <th scope=\"row\">Website</th>,\n",
       " <th colspan=\"2\" style=\"text-align:center;background-color: #eee;\">Major <a href=\"/wiki/Programming_language_implementation\" title=\"Programming language implementation\">implementations</a></th>,\n",
       " <th colspan=\"2\" style=\"text-align:center;background-color: #eee;\"><a href=\"/wiki/Programming_language#Dialects,_flavors_and_implementations\" title=\"Programming language\">Dialects</a></th>,\n",
       " <th colspan=\"2\" style=\"text-align:center;background-color: #eee;\">Influenced by</th>,\n",
       " <th colspan=\"2\" style=\"text-align:center;background-color: #eee;\">Influenced</th>]"
      ]
     },
     "execution_count": 8,
     "metadata": {},
     "output_type": "execute_result"
    }
   ],
   "source": [
    "th=g[0].find_all(\"th\")\n",
    "th"
   ]
  },
  {
   "cell_type": "code",
   "execution_count": 9,
   "metadata": {},
   "outputs": [
    {
     "name": "stdout",
     "output_type": "stream",
     "text": [
      "Paradigm\n",
      "Designed by\n",
      "Developer\n",
      "First appeared\n",
      "Stable release\n",
      "Typing discipline\n",
      "License\n",
      "Filename extensions\n",
      "Website\n",
      "Major implementations\n",
      "Dialects\n",
      "Influenced by\n",
      "Influenced\n"
     ]
    }
   ],
   "source": [
    "title=[]\n",
    "for i in th:\n",
    "    print(i.text)\n",
    "    title.append(i.text)"
   ]
  },
  {
   "cell_type": "code",
   "execution_count": 10,
   "metadata": {},
   "outputs": [
    {
     "name": "stdout",
     "output_type": "stream",
     "text": [
      "13\n"
     ]
    },
    {
     "ename": "NameError",
     "evalue": "name 'td' is not defined",
     "output_type": "error",
     "traceback": [
      "\u001b[0;31m---------------------------------------------------------------------------\u001b[0m",
      "\u001b[0;31mNameError\u001b[0m                                 Traceback (most recent call last)",
      "\u001b[0;32m<ipython-input-10-cc926a71c97a>\u001b[0m in \u001b[0;36m<module>\u001b[0;34m\u001b[0m\n\u001b[1;32m      1\u001b[0m \u001b[0mprint\u001b[0m\u001b[0;34m(\u001b[0m\u001b[0mlen\u001b[0m\u001b[0;34m(\u001b[0m\u001b[0mth\u001b[0m\u001b[0;34m)\u001b[0m\u001b[0;34m)\u001b[0m\u001b[0;34m\u001b[0m\u001b[0;34m\u001b[0m\u001b[0m\n\u001b[0;32m----> 2\u001b[0;31m \u001b[0mprint\u001b[0m\u001b[0;34m(\u001b[0m\u001b[0mlen\u001b[0m\u001b[0;34m(\u001b[0m\u001b[0mtd\u001b[0m\u001b[0;34m)\u001b[0m\u001b[0;34m)\u001b[0m\u001b[0;34m\u001b[0m\u001b[0;34m\u001b[0m\u001b[0m\n\u001b[0m",
      "\u001b[0;31mNameError\u001b[0m: name 'td' is not defined"
     ]
    }
   ],
   "source": [
    "print(len(th))\n",
    "print(len(td))"
   ]
  },
  {
   "cell_type": "code",
   "execution_count": null,
   "metadata": {},
   "outputs": [],
   "source": [
    "td=g[0].find_all(\"td\")\n",
    "#td"
   ]
  },
  {
   "cell_type": "code",
   "execution_count": null,
   "metadata": {},
   "outputs": [],
   "source": [
    "dec=[]\n",
    "for j in td:\n",
    "    print(j.text)\n",
    "    print(\"\\n\")\n",
    "    dec.append(j.text)"
   ]
  },
  {
   "cell_type": "code",
   "execution_count": null,
   "metadata": {},
   "outputs": [],
   "source": [
    "print(td[1].text)"
   ]
  },
  {
   "cell_type": "code",
   "execution_count": null,
   "metadata": {},
   "outputs": [],
   "source": [
    "k=min([len(dec),len(title)])\n",
    "for i in range(k):\n",
    "    print(\"\"+title[i]+\"\\t\"+dec[i+1])"
   ]
  },
  {
   "cell_type": "code",
   "execution_count": null,
   "metadata": {},
   "outputs": [],
   "source": []
  },
  {
   "cell_type": "code",
   "execution_count": null,
   "metadata": {},
   "outputs": [],
   "source": []
  },
  {
   "cell_type": "code",
   "execution_count": null,
   "metadata": {},
   "outputs": [],
   "source": [
    "type(g[0])"
   ]
  },
  {
   "cell_type": "code",
   "execution_count": 11,
   "metadata": {},
   "outputs": [
    {
     "data": {
      "text/plain": [
       "'Designed\\xa0by'"
      ]
     },
     "execution_count": 11,
     "metadata": {},
     "output_type": "execute_result"
    }
   ],
   "source": [
    "g[0].find_all(\"th\")[1].text"
   ]
  },
  {
   "cell_type": "markdown",
   "metadata": {},
   "source": [
    "## Another example"
   ]
  },
  {
   "cell_type": "code",
   "execution_count": 12,
   "metadata": {},
   "outputs": [],
   "source": [
    "from bs4 import BeautifulSoup\n",
    "import requests"
   ]
  },
  {
   "cell_type": "code",
   "execution_count": 13,
   "metadata": {},
   "outputs": [],
   "source": [
    "#url=\"https://www.snapdeal.com/products/mobiles-mobile-phones/filters/Form_s~Smartphones?sort=plrty\"\n",
    "#raw_data=requests.get(url)"
   ]
  },
  {
   "cell_type": "code",
   "execution_count": 14,
   "metadata": {},
   "outputs": [],
   "source": [
    "#data=raw_data.content"
   ]
  },
  {
   "cell_type": "code",
   "execution_count": 15,
   "metadata": {},
   "outputs": [],
   "source": [
    "#bs=BeautifulSoup(data,\"lxml\")"
   ]
  },
  {
   "cell_type": "code",
   "execution_count": 16,
   "metadata": {},
   "outputs": [],
   "source": [
    "#g=bs.find_all(\"table\",{\"class\":\"infobox vevent\"})"
   ]
  },
  {
   "cell_type": "code",
   "execution_count": 17,
   "metadata": {},
   "outputs": [],
   "source": [
    "data=BeautifulSoup(requests.get(\"https://www.pexels.com/search/dogs/\").content)"
   ]
  },
  {
   "cell_type": "code",
   "execution_count": 18,
   "metadata": {},
   "outputs": [],
   "source": [
    "mob=data.find_all(\"img\")"
   ]
  },
  {
   "cell_type": "code",
   "execution_count": 19,
   "metadata": {},
   "outputs": [
    {
     "data": {
      "text/plain": [
       "153"
      ]
     },
     "execution_count": 19,
     "metadata": {},
     "output_type": "execute_result"
    }
   ],
   "source": [
    "len(mob)"
   ]
  },
  {
   "cell_type": "code",
   "execution_count": null,
   "metadata": {},
   "outputs": [],
   "source": [
    "src=[]\n",
    "for i in range(len(mob)):\n",
    "    src.append(mob[i][\"src\"])\n",
    "    "
   ]
  },
  {
   "cell_type": "code",
   "execution_count": null,
   "metadata": {},
   "outputs": [
    {
     "data": {
      "text/plain": [
       "['https://www.pexels.com/assets/_svg/avatar_default-ab90ed807baa930476cb5abc4b547f7190f19fb418dc3581e686d5d418a611a1.svg',\n",
       " 'https://images.pexels.com/photos/850602/pexels-photo-850602.jpeg?auto=compress&cs=tinysrgb&dpr=1&w=500',\n",
       " 'https://www.pexels.com/assets/favorite-f721c3d387889d5c3a9e0943c1836840a2954b9bebab846ca963877afee48f21.svg',\n",
       " 'https://www.pexels.com/assets/star-1bf7ee8c305832829a0a1e0b5c5d901e34e6732cd67c90715cd9b554a785877b.svg',\n",
       " 'https://images.pexels.com/users/avatars/269359/nancy-guth-176.jpg?w=60&h=60&fit=crop&crop=faces']"
      ]
     },
     "execution_count": 21,
     "metadata": {},
     "output_type": "execute_result"
    }
   ],
   "source": [
    "src[:5]"
   ]
  },
  {
   "cell_type": "code",
   "execution_count": null,
   "metadata": {},
   "outputs": [
    {
     "data": {
      "text/plain": [
       "[]"
      ]
     },
     "execution_count": 22,
     "metadata": {},
     "output_type": "execute_result"
    }
   ],
   "source": [
    "mob[0].find_all(\"img\",{\"class\":\"_1Nyybr _30XEf0\"})"
   ]
  },
  {
   "cell_type": "code",
   "execution_count": null,
   "metadata": {},
   "outputs": [
    {
     "name": "stdout",
     "output_type": "stream",
     "text": [
      "image is not downloadable\n",
      "image is not downloadable\n",
      "image is not downloadable\n",
      "image is not downloadable\n",
      "image is not downloadable\n",
      "image is not downloadable\n",
      "image is not downloadable\n",
      "image is not downloadable\n",
      "image is not downloadable\n",
      "image is not downloadable\n",
      "image is not downloadable\n",
      "image is not downloadable\n",
      "image is not downloadable\n",
      "image is not downloadable\n",
      "image is not downloadable\n",
      "image is not downloadable\n",
      "image is not downloadable\n",
      "image is not downloadable\n",
      "image is not downloadable\n",
      "image is not downloadable\n",
      "image is not downloadable\n",
      "image is not downloadable\n",
      "image is not downloadable\n",
      "image is not downloadable\n",
      "image is not downloadable\n",
      "image is not downloadable\n",
      "image is not downloadable\n",
      "image is not downloadable\n"
     ]
    }
   ],
   "source": [
    "import io\n",
    "from PIL import Image\n",
    "i=0\n",
    "for d in src:\n",
    "    try:\n",
    "        data=requests.get(d,stream=True).content   #data is comes in packages so we need to set stream=True\n",
    "        img=io.BytesIO(data)  #read bytes data \n",
    "        imgr=Image.open(img)  \n",
    "        imgr.save(\"dogs/dog_\"+str(i)+\".jpg\")\n",
    "        i=i+1\n",
    "    except:\n",
    "        print(\"image is not downloadable\")\n",
    "        \n",
    "        \n",
    "\n",
    "    "
   ]
  },
  {
   "cell_type": "code",
   "execution_count": null,
   "metadata": {},
   "outputs": [],
   "source": [
    "imgr"
   ]
  },
  {
   "cell_type": "code",
   "execution_count": 12,
   "metadata": {},
   "outputs": [],
   "source": [
    "#src"
   ]
  }
 ],
 "metadata": {
  "kernelspec": {
   "display_name": "Python 3",
   "language": "python",
   "name": "python3"
  },
  "language_info": {
   "codemirror_mode": {
    "name": "ipython",
    "version": 3
   },
   "file_extension": ".py",
   "mimetype": "text/x-python",
   "name": "python",
   "nbconvert_exporter": "python",
   "pygments_lexer": "ipython3",
   "version": "3.7.3"
  }
 },
 "nbformat": 4,
 "nbformat_minor": 2
}
