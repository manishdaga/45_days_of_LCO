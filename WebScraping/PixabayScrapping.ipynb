{
 "cells": [
  {
   "cell_type": "markdown",
   "metadata": {},
   "source": [
    "# PixabayScrappping"
   ]
  },
  {
   "cell_type": "code",
   "execution_count": 2,
   "metadata": {},
   "outputs": [],
   "source": [
    "import requests   # This library is used to request to request for the data from a url \n",
    "import io\n",
    "from PIL import Image   #This library is used to save images\n",
    "from bs4 import BeautifulSoup\n",
    "import selenium\n",
    "\n",
    "from selenium import webdriver    #used to access the webdriver\n",
    "\n",
    "browser = webdriver.Chrome('../data/chromedriver')   #Used to access the Chromedriver.exe which is present in this folder\n",
    "\n",
    "browser.get('https://pixabay.com/images/search/spiderman/')\n",
    "html=browser.page_source"
   ]
  },
  {
   "cell_type": "markdown",
   "metadata": {},
   "source": [
    "## Apply beautifulsoup to html"
   ]
  },
  {
   "cell_type": "code",
   "execution_count": 3,
   "metadata": {},
   "outputs": [],
   "source": [
    "df=BeautifulSoup(html,\"lxml\")    "
   ]
  },
  {
   "cell_type": "code",
   "execution_count": 4,
   "metadata": {},
   "outputs": [],
   "source": [
    "images=df.find_all(\"img\")   "
   ]
  },
  {
   "cell_type": "code",
   "execution_count": 5,
   "metadata": {},
   "outputs": [
    {
     "data": {
      "text/plain": [
       "58"
      ]
     },
     "execution_count": 5,
     "metadata": {},
     "output_type": "execute_result"
    }
   ],
   "source": [
    "len(images)"
   ]
  },
  {
   "cell_type": "code",
   "execution_count": 6,
   "metadata": {},
   "outputs": [
    {
     "name": "stdout",
     "output_type": "stream",
     "text": [
      "https://cdn.pixabay.com/photo/2013/03/02/02/40/little-89159__480.jpg\n",
      "https://cdn.pixabay.com/photo/2016/08/01/01/50/spiderman-1560337__480.jpg\n"
     ]
    }
   ],
   "source": [
    "# 0 to 15 images conatins \"srcset\"\n",
    "print(images[0][\"srcset\"].split(\"1x,\")[-1].split()[0])\n",
    "\n",
    "print(images[15][\"srcset\"].split(\"1x,\")[-1].split()[0])"
   ]
  },
  {
   "cell_type": "code",
   "execution_count": 7,
   "metadata": {},
   "outputs": [],
   "source": [
    "# Key Error :=> means that key attribute will not present there "
   ]
  },
  {
   "cell_type": "code",
   "execution_count": 8,
   "metadata": {},
   "outputs": [
    {
     "name": "stdout",
     "output_type": "stream",
     "text": [
      "https://cdn.pixabay.com/photo/2015/09/22/14/50/sculpture-951804__480.jpg\n",
      "https://cdn.pixabay.com/photo/2013/09/01/08/57/jyothi-rai-178000__480.jpg\n"
     ]
    }
   ],
   "source": [
    "#16 to 53 contains \"data-lazy-srcset\" instead of \"srcset\" \n",
    "print(images[16][\"data-lazy-srcset\"].split(\"1x,\")[-1].split()[0])\n",
    "print(images[53][\"data-lazy-srcset\"].split(\"1x,\")[-1].split()[0])"
   ]
  },
  {
   "cell_type": "code",
   "execution_count": 9,
   "metadata": {},
   "outputs": [],
   "source": [
    "# 0 to 15 contains \"srcset\" in img tags \n",
    "im=[]\n",
    "for i in range(16):\n",
    "    im.append(images[i][\"srcset\"].split(\"1x,\")[-1].split()[0])\n",
    "\n",
    "#16 to 53 contains \"data-lazy-srcset\" in img tags \n",
    "for i in range(16,54):\n",
    "    im.append(images[i][\"data-lazy-srcset\"].split(\"1x,\")[-1].split()[0])    "
   ]
  },
  {
   "cell_type": "code",
   "execution_count": 10,
   "metadata": {},
   "outputs": [
    {
     "name": "stdout",
     "output_type": "stream",
     "text": [
      "<img alt=\"Villain, Spider-Man, Spiderman, Evil\" data-lazy=\"https://cdn.pixabay.com/photo/2013/07/12/17/46/villain-152400__340.png\" data-lazy-srcset=\"https://cdn.pixabay.com/photo/2013/07/12/17/46/villain-152400__340.png 1x, https://cdn.pixabay.com/photo/2013/07/12/17/46/villain-152400__480.png 2x\" src=\"/static/img/blank.gif\"/>\n",
      "<img src=\"/static/img/facebook.svg\"/>\n",
      "<img src=\"/static/img/instagram.svg\"/>\n"
     ]
    }
   ],
   "source": [
    "# 54 to 56 images contains only this & no image is present there\n",
    "print(images[54])\n",
    "print(images[55])\n",
    "print(images[56])"
   ]
  },
  {
   "cell_type": "code",
   "execution_count": 11,
   "metadata": {},
   "outputs": [],
   "source": [
    "# 54 to 56 =3 are images which contains logos only\n",
    "im.append('https://pixabay.com/static/img/facebook.svg')\n",
    "im.append('https://pixabay.com/static/img/instagram.svg')\n",
    "im.append('https://pixabay.com/static/img/twitter.svg')"
   ]
  },
  {
   "cell_type": "code",
   "execution_count": 12,
   "metadata": {},
   "outputs": [
    {
     "data": {
      "text/plain": [
       "57"
      ]
     },
     "execution_count": 12,
     "metadata": {},
     "output_type": "execute_result"
    }
   ],
   "source": [
    "# Now \"im\" list contains all the the images of the given page\n",
    "len(im)"
   ]
  },
  {
   "cell_type": "code",
   "execution_count": 13,
   "metadata": {},
   "outputs": [
    {
     "data": {
      "text/plain": [
       "'https://cdn.pixabay.com/photo/2013/03/19/13/54/dusseldorf-95005__480.jpg'"
      ]
     },
     "execution_count": 13,
     "metadata": {},
     "output_type": "execute_result"
    }
   ],
   "source": [
    "#Class work\n",
    "rt=images[2][\"srcset\"].split(\"lx,\")[-1].split()[2]\n",
    "rt"
   ]
  },
  {
   "cell_type": "code",
   "execution_count": 14,
   "metadata": {},
   "outputs": [
    {
     "name": "stdout",
     "output_type": "stream",
     "text": [
      "image is not downloadable\n",
      "image is not downloadable\n",
      "image is not downloadable\n",
      "image is not downloadable\n",
      "image is not downloadable\n",
      "image is not downloadable\n",
      "image is not downloadable\n",
      "image is not downloadable\n",
      "image is not downloadable\n",
      "image is not downloadable\n",
      "image is not downloadable\n",
      "image is not downloadable\n",
      "image is not downloadable\n",
      "image is not downloadable\n",
      "image is not downloadable\n",
      "image is not downloadable\n",
      "image is not downloadable\n",
      "image is not downloadable\n",
      "image is not downloadable\n",
      "image is not downloadable\n",
      "image is not downloadable\n",
      "image is not downloadable\n",
      "image is not downloadable\n",
      "image is not downloadable\n",
      "image is not downloadable\n",
      "image is not downloadable\n",
      "image is not downloadable\n",
      "image is not downloadable\n",
      "image is not downloadable\n",
      "image is not downloadable\n",
      "image is not downloadable\n",
      "image is not downloadable\n",
      "image is not downloadable\n",
      "image is not downloadable\n",
      "image is not downloadable\n",
      "image is not downloadable\n",
      "image is not downloadable\n",
      "image is not downloadable\n",
      "image is not downloadable\n",
      "image is not downloadable\n",
      "image is not downloadable\n",
      "image is not downloadable\n",
      "image is not downloadable\n",
      "image is not downloadable\n",
      "image is not downloadable\n",
      "image is not downloadable\n",
      "image is not downloadable\n",
      "image is not downloadable\n",
      "image is not downloadable\n",
      "image is not downloadable\n",
      "image is not downloadable\n",
      "image is not downloadable\n",
      "image is not downloadable\n",
      "image is not downloadable\n",
      "image is not downloadable\n",
      "image is not downloadable\n",
      "image is not downloadable\n"
     ]
    }
   ],
   "source": [
    "'''\n",
    "number=0\n",
    "for img in im:\n",
    "    try:\n",
    "        data=Image.open(io.BytesIO(requests.get(img,stream=True).content)).save(\"Spiderman/spiderman_\"+str(number)+\".jpg\")\n",
    "        number=+1 \n",
    "    except:\n",
    "        print(\"Not Downloadable\")\n",
    "        \n",
    "'''        \n",
    "import io\n",
    "from PIL import Image\n",
    "i=0\n",
    "for IM in im:\n",
    "    try:\n",
    "        data=requests.get(IM,stream=True).content   #data is comes in packages so we need to set stream=True\n",
    "        img=io.BytesIO(data)  #read bytes data \n",
    "        imgr=Image.open(img)  \n",
    "        imgr.save(\"Spiderman/spiderman_\"+str(i)+\".jpg\")\n",
    "        i=i+1\n",
    "    except:\n",
    "        print(\"image is not downloadable\")\n",
    "        \n",
    "        \n",
    "\n",
    "            \n",
    "        "
   ]
  }
 ],
 "metadata": {
  "kernelspec": {
   "display_name": "Python 3",
   "language": "python",
   "name": "python3"
  },
  "language_info": {
   "codemirror_mode": {
    "name": "ipython",
    "version": 3
   },
   "file_extension": ".py",
   "mimetype": "text/x-python",
   "name": "python",
   "nbconvert_exporter": "python",
   "pygments_lexer": "ipython3",
   "version": "3.7.3"
  }
 },
 "nbformat": 4,
 "nbformat_minor": 2
}
