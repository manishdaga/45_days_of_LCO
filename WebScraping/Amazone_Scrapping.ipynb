{
 "cells": [
  {
   "cell_type": "markdown",
   "metadata": {},
   "source": [
    "## Web Scrapping With Selenium & Beautiful-Soup "
   ]
  },
  {
   "cell_type": "markdown",
   "metadata": {},
   "source": [
    "### Scrap the price of top 10 gaming laptops with there info from Amazon "
   ]
  },
  {
   "cell_type": "markdown",
   "metadata": {},
   "source": [
    "## Importing selenium webdriver & getting the data from that page then convert it to html format "
   ]
  },
  {
   "cell_type": "code",
   "execution_count": 3,
   "metadata": {},
   "outputs": [],
   "source": [
    "from selenium import webdriver\n",
    "\n",
    "browser = webdriver.Chrome('../data/chromedriver')  #it excess the chromedriver.exe file whcich is present in same folder \n",
    "\n",
    "browser.get('https://www.amazon.in/s?k=top+10+gaming+laptop&crid=6EGKA5Y49LSW&sprefix=Top+10+gaming+%2Caps%2C423&ref=nb_sb_ss_i_1_14')\n",
    "#It will create a browser window for the page in URL\n",
    "html = browser.page_source   # It will convert this dynamic page into HTML formate "
   ]
  },
  {
   "cell_type": "code",
   "execution_count": 4,
   "metadata": {},
   "outputs": [],
   "source": [
    "#html   -->It will show all the content of the page in HTML formate with all the tags"
   ]
  },
  {
   "cell_type": "markdown",
   "metadata": {},
   "source": [
    "## Apply the beautiful soup on the html content"
   ]
  },
  {
   "cell_type": "code",
   "execution_count": 5,
   "metadata": {},
   "outputs": [],
   "source": [
    "from bs4 import BeautifulSoup \n",
    "bs=BeautifulSoup(html,\"lxml\")   "
   ]
  },
  {
   "cell_type": "markdown",
   "metadata": {},
   "source": [
    "## Finding the price of the products on the page"
   ]
  },
  {
   "cell_type": "code",
   "execution_count": 6,
   "metadata": {},
   "outputs": [],
   "source": [
    "g=bs.find_all(\"div\",{\"class\":\"sg-row\"})    # It will give all the details of products present on that page\n",
    "                                           # There are 2 classes present of name \"sg-row\" on the same page in which one contains info \n",
    "                                           # & one contains nothing\n",
    "        "
   ]
  },
  {
   "cell_type": "code",
   "execution_count": 7,
   "metadata": {},
   "outputs": [],
   "source": [
    "p=bs.find_all(\"span\",{\"class\":\"a-price-whole\"})  # It will contains all the spans which comes under class \"a-price-whole\"\n",
    "                                                 #This span contains the price of product "
   ]
  },
  {
   "cell_type": "code",
   "execution_count": 8,
   "metadata": {},
   "outputs": [
    {
     "data": {
      "text/plain": [
       "40"
      ]
     },
     "execution_count": 8,
     "metadata": {},
     "output_type": "execute_result"
    }
   ],
   "source": [
    "len(p)"
   ]
  },
  {
   "cell_type": "code",
   "execution_count": 9,
   "metadata": {},
   "outputs": [
    {
     "name": "stdout",
     "output_type": "stream",
     "text": [
      "55,990\n",
      "77,990\n"
     ]
    }
   ],
   "source": [
    "# It will show the price of first product of the page\n",
    "print(p[0].text)  # It will show the original price of product\n",
    "print(p[1].text)  # It will show the crossed line price of original product\n",
    "\n",
    "#So we have to take only the prices which are on even indecies in \"p\" list"
   ]
  },
  {
   "cell_type": "markdown",
   "metadata": {},
   "source": [
    "## Now we move only the original prices in \"itemprice\" list"
   ]
  },
  {
   "cell_type": "code",
   "execution_count": 10,
   "metadata": {},
   "outputs": [],
   "source": [
    "itemsprice=[]\n",
    "for i in range(0,len(p),2):\n",
    " #  print(p[i].text) It will show the price of all the products \n",
    "    itemsprice.append(p[i].text)"
   ]
  },
  {
   "cell_type": "code",
   "execution_count": 11,
   "metadata": {},
   "outputs": [
    {
     "data": {
      "text/plain": [
       "20"
      ]
     },
     "execution_count": 11,
     "metadata": {},
     "output_type": "execute_result"
    }
   ],
   "source": [
    "len(itemsprice)    # Now itemsprice will have only the original prices of the products"
   ]
  },
  {
   "cell_type": "code",
   "execution_count": 12,
   "metadata": {},
   "outputs": [
    {
     "data": {
      "text/plain": [
       "'84,990'"
      ]
     },
     "execution_count": 12,
     "metadata": {},
     "output_type": "execute_result"
    }
   ],
   "source": [
    "itemsprice.pop(5)  #It will remove the price present at 5th index in itemsprice list"
   ]
  },
  {
   "cell_type": "code",
   "execution_count": 13,
   "metadata": {},
   "outputs": [
    {
     "data": {
      "text/plain": [
       "19"
      ]
     },
     "execution_count": 13,
     "metadata": {},
     "output_type": "execute_result"
    }
   ],
   "source": [
    "len(itemsprice)"
   ]
  },
  {
   "cell_type": "code",
   "execution_count": 14,
   "metadata": {},
   "outputs": [
    {
     "data": {
      "text/plain": [
       "127"
      ]
     },
     "execution_count": 14,
     "metadata": {},
     "output_type": "execute_result"
    }
   ],
   "source": [
    "len(g)   # this is the length of whole list \"g\""
   ]
  },
  {
   "cell_type": "markdown",
   "metadata": {},
   "source": [
    "## Fetching the items details from the content"
   ]
  },
  {
   "cell_type": "code",
   "execution_count": 15,
   "metadata": {},
   "outputs": [
    {
     "data": {
      "text/plain": [
       "'\\n\\nASUS TUF FX504 Intel Core i5 8th Gen 15.6-inch FHD Gaming Laptop (8GB/1TB Hybrid HDD (FireCuda)/Windows 10/GTX 1050 4GB Graphics/Gun Metal/2.30 Kg), FX504GD-E4021T\\n\\n'"
      ]
     },
     "execution_count": 15,
     "metadata": {},
     "output_type": "execute_result"
    }
   ],
   "source": [
    "#Check for 1 item\n",
    "\n",
    "#g[1].find_all(\"h2\")[0].text\n",
    "g[4].find_all(\"h2\")[0].text"
   ]
  },
  {
   "cell_type": "code",
   "execution_count": 16,
   "metadata": {},
   "outputs": [
    {
     "name": "stdout",
     "output_type": "stream",
     "text": [
      "1 - \n",
      "\n",
      "ASUS TUF FX504 Intel Core i5 8th Gen 15.6-inch FHD Gaming Laptop (8GB/1TB Hybrid HDD (FireCuda)/Windows 10/GTX 1050 4GB Graphics/Gun Metal/2.30 Kg), FX504GD-E4021T\n",
      "\n",
      "\n",
      "2 - \n",
      "\n",
      "ASUS TUF FX504 Intel Core i5 8th Gen 15.6-inch FHD Gaming Laptop (8GB/1TB Hybrid HDD (FireCuda)/Windows 10/GTX 1050 4GB Graphics/Gun Metal/2.30 Kg), FX504GD-E4021T\n",
      "\n",
      "\n",
      "Not Extractable\n",
      "4 - \n",
      "\n",
      "ASUS TUF FX504 Intel Core i5 8th Gen 15.6-inch FHD Gaming Laptop (8GB/1TB Hybrid HDD (FireCuda)/Windows 10/GTX 1050 4GB Graphics/Gun Metal/2.30 Kg), FX504GD-E4021T\n",
      "\n",
      "\n",
      "5 - \n",
      "\n",
      "ASUS TUF FX504 Intel Core i5 8th Gen 15.6-inch FHD Gaming Laptop (8GB/1TB Hybrid HDD (FireCuda)/Windows 10/GTX 1050 4GB Graphics/Gun Metal/2.30 Kg), FX504GD-E4021T\n",
      "\n",
      "\n",
      "Not Extractable\n",
      "Not Extractable\n",
      "Not Extractable\n",
      "Not Extractable\n",
      "10 - \n",
      "\n",
      "HP Pavilion Gaming 15-cx0140tx FHD Gaming Laptop (8th Gen i5-8300H/8GB/1TB HDD/NVIDIA GTX 1050 4GB Graphics/Win 10/MS Office) Shadow Black\n",
      "\n",
      "\n",
      "11 - \n",
      "\n",
      "HP Pavilion Gaming 15-cx0140tx FHD Gaming Laptop (8th Gen i5-8300H/8GB/1TB HDD/NVIDIA GTX 1050 4GB Graphics/Win 10/MS Office) Shadow Black\n",
      "\n",
      "\n",
      "Not Extractable\n",
      "Not Extractable\n",
      "Not Extractable\n",
      "Not Extractable\n",
      "16 - \n",
      "\n",
      "ASUS TUF FX504 Intel Core i5 8th Gen 15.6-inch FHD Gaming Laptop (8GB/1TB Hybrid HDD (FireCuda)/Windows 10/GTX 1050 4GB Graphics/Gun Metal/2.30 Kg), FX504GD-E4021T\n",
      "\n",
      "\n",
      "17 - \n",
      "\n",
      "ASUS TUF FX504 Intel Core i5 8th Gen 15.6-inch FHD Gaming Laptop (8GB/1TB Hybrid HDD (FireCuda)/Windows 10/GTX 1050 4GB Graphics/Gun Metal/2.30 Kg), FX504GD-E4021T\n",
      "\n",
      "\n",
      "Not Extractable\n",
      "Not Extractable\n",
      "Not Extractable\n",
      "Not Extractable\n",
      "22 - \n",
      "\n",
      "Dell Inspiron 3567 Intel Core i3 7th Gen 15.6-inch FHD Laptop (4GB/1TB HDD/Windows 10 Home/MS Office/Black/2.5kg)\n",
      "\n",
      "\n",
      "23 - \n",
      "\n",
      "Dell Inspiron 3567 Intel Core i3 7th Gen 15.6-inch FHD Laptop (4GB/1TB HDD/Windows 10 Home/MS Office/Black/2.5kg)\n",
      "\n",
      "\n",
      "Not Extractable\n",
      "Not Extractable\n",
      "Not Extractable\n",
      "Not Extractable\n",
      "28 - \n",
      "\n",
      "HP Pavilion x360 Core i5 8th Gen 14-inch Touchscreen 2-in-1 FHD Laptop (8GB/1TB+8GB SSHD/Windows 10 Home/MS Office Home & Student 2016/Natural Silver/1.59 kg), cd0080TU\n",
      "\n",
      "\n",
      "29 - \n",
      "\n",
      "HP Pavilion x360 Core i5 8th Gen 14-inch Touchscreen 2-in-1 FHD Laptop (8GB/1TB+8GB SSHD/Windows 10 Home/MS Office Home & Student 2016/Natural Silver/1.59 kg), cd0080TU\n",
      "\n",
      "\n",
      "Not Extractable\n",
      "Not Extractable\n",
      "Not Extractable\n",
      "Not Extractable\n",
      "34 - \n",
      "\n",
      "Acer Nitro 5 AN515-52 Core i7 8th Gen 8750H Processor 15.6-inch FHD Gaming Laptop (8GB RAM /128 GB SSD with 1TB HDD/Windows 10/NVIDIA GTX Graphics 1050Ti 4GB GDDR5/Black/2.7kg)\n",
      "\n",
      "\n",
      "35 - \n",
      "\n",
      "Acer Nitro 5 AN515-52 Core i7 8th Gen 8750H Processor 15.6-inch FHD Gaming Laptop (8GB RAM /128 GB SSD with 1TB HDD/Windows 10/NVIDIA GTX Graphics 1050Ti 4GB GDDR5/Black/2.7kg)\n",
      "\n",
      "\n",
      "Not Extractable\n",
      "Not Extractable\n",
      "Not Extractable\n",
      "Not Extractable\n",
      "40 - \n",
      "\n",
      "Logitech M235 Wireless Mouse for Windows and Mac - Black/Grey\n",
      "\n",
      "\n",
      "41 - \n",
      "\n",
      "Logitech M235 Wireless Mouse for Windows and Mac - Black/Grey\n",
      "\n",
      "\n",
      "Not Extractable\n",
      "Not Extractable\n",
      "Not Extractable\n",
      "Not Extractable\n",
      "46 - \n",
      "\n",
      "Logitech M235 Wireless Mouse - Optical Red\n",
      "\n",
      "\n",
      "47 - \n",
      "\n",
      "Logitech M235 Wireless Mouse - Optical Red\n",
      "\n",
      "\n",
      "Not Extractable\n",
      "Not Extractable\n",
      "Not Extractable\n",
      "Not Extractable\n",
      "52 - \n",
      "\n",
      "Logitech M331 Silent Plus Wireless Mouse with Nano Receiver(Red)\n",
      "\n",
      "\n",
      "53 - \n",
      "\n",
      "Logitech M331 Silent Plus Wireless Mouse with Nano Receiver(Red)\n",
      "\n",
      "\n",
      "Not Extractable\n",
      "Not Extractable\n",
      "Not Extractable\n",
      "Not Extractable\n",
      "58 - \n",
      "\n",
      "TP-LINK TL-WR940N Wireless-N450 Home Router (Not a Modem)\n",
      "\n",
      "\n",
      "59 - \n",
      "\n",
      "TP-LINK TL-WR940N Wireless-N450 Home Router (Not a Modem)\n",
      "\n",
      "\n",
      "Not Extractable\n",
      "Not Extractable\n",
      "Not Extractable\n",
      "Not Extractable\n",
      "64 - \n",
      "\n",
      "HP Pavilion Gaming Core i5 8th Gen 15.6-inch FHD Gaming Laptop (8GB/128GB SSD + 1TB HDD/Windows 10/NVIDIA GTX 1050Ti 4GB Graphics/Shadow Black/2.17 kg), 15-bc444TX\n",
      "\n",
      "\n",
      "65 - \n",
      "\n",
      "HP Pavilion Gaming Core i5 8th Gen 15.6-inch FHD Gaming Laptop (8GB/128GB SSD + 1TB HDD/Windows 10/NVIDIA GTX 1050Ti 4GB Graphics/Shadow Black/2.17 kg), 15-bc444TX\n",
      "\n",
      "\n",
      "Not Extractable\n",
      "Not Extractable\n",
      "Not Extractable\n",
      "Not Extractable\n",
      "70 - \n",
      "\n",
      "HP Pavilion Gaming Core i5 8th Gen 15.6-inch FHD Gaming Laptop (8GB/1TB HDD/Windows 10 Home/NVIDIA GTX 1050 4GB Graphics/Shadow Black/2.17 kg),bc406TX\n",
      "\n",
      "\n",
      "71 - \n",
      "\n",
      "HP Pavilion Gaming Core i5 8th Gen 15.6-inch FHD Gaming Laptop (8GB/1TB HDD/Windows 10 Home/NVIDIA GTX 1050 4GB Graphics/Shadow Black/2.17 kg),bc406TX\n",
      "\n",
      "\n",
      "Not Extractable\n",
      "Not Extractable\n",
      "Not Extractable\n",
      "Not Extractable\n",
      "76 - \n",
      "\n",
      "Lenovo Tab4 10 Tablet (10.1 inch,16GB,Wi-Fi + 4G LTE) Slate Black\n",
      "\n",
      "\n",
      "77 - \n",
      "\n",
      "Lenovo Tab4 10 Tablet (10.1 inch,16GB,Wi-Fi + 4G LTE) Slate Black\n",
      "\n",
      "\n",
      "Not Extractable\n",
      "Not Extractable\n",
      "Not Extractable\n",
      "Not Extractable\n",
      "82 - \n",
      "\n",
      "Samsung 23.5 inch (59.8 cm) Curved LED Backlit Computer Monitor - Full HD, VA Panel with VGA, HDMI, Audio Ports - LC24F390FHWXXL (Black)\n",
      "\n",
      "\n",
      "83 - \n",
      "\n",
      "Samsung 23.5 inch (59.8 cm) Curved LED Backlit Computer Monitor - Full HD, VA Panel with VGA, HDMI, Audio Ports - LC24F390FHWXXL (Black)\n",
      "\n",
      "\n",
      "Not Extractable\n",
      "Not Extractable\n",
      "Not Extractable\n",
      "Not Extractable\n",
      "88 - \n",
      "\n",
      "LG 22 inch (55cm) IPS Monitor - Full HD, IPS Panel with VGA, HDMI, DVI, Audio Out Ports - 22MP68VQ (Black)\n",
      "\n",
      "\n",
      "89 - \n",
      "\n",
      "LG 22 inch (55cm) IPS Monitor - Full HD, IPS Panel with VGA, HDMI, DVI, Audio Out Ports - 22MP68VQ (Black)\n",
      "\n",
      "\n",
      "Not Extractable\n",
      "Not Extractable\n",
      "Not Extractable\n",
      "Not Extractable\n",
      "94 - \n",
      "\n",
      "TP-Link Archer T2UH AC600 High Gain Wireless Dual Band USB Adapter\n",
      "\n",
      "\n",
      "95 - \n",
      "\n",
      "TP-Link Archer T2UH AC600 High Gain Wireless Dual Band USB Adapter\n",
      "\n",
      "\n",
      "Not Extractable\n",
      "Not Extractable\n",
      "Not Extractable\n",
      "Not Extractable\n",
      "100 - \n",
      "\n",
      "Kingston 8GB Class 4 Micro SDHC Memory Card\n",
      "\n",
      "\n",
      "101 - \n",
      "\n",
      "Kingston 8GB Class 4 Micro SDHC Memory Card\n",
      "\n",
      "\n",
      "Not Extractable\n",
      "Not Extractable\n",
      "Not Extractable\n",
      "Not Extractable\n",
      "106 - \n",
      "\n",
      "HP 21.5 inch (54.6 cm) Edge to Edge LED Backlit Computer Monitor - Full HD, IPS Panel with VGA, HDMI Ports - 22ES (Silver/Black)\n",
      "\n",
      "\n",
      "107 - \n",
      "\n",
      "HP 21.5 inch (54.6 cm) Edge to Edge LED Backlit Computer Monitor - Full HD, IPS Panel with VGA, HDMI Ports - 22ES (Silver/Black)\n",
      "\n",
      "\n",
      "Not Extractable\n",
      "Not Extractable\n",
      "Not Extractable\n",
      "Not Extractable\n",
      "112 - \n",
      "\n",
      "Samsung 27 inch (68.5 cm) Curved LED Backlit Computer Monitor - Full HD, VA Panel with VGA, HDMI, Audio Ports - LC27F390FHWXXL (Black)\n",
      "\n",
      "\n",
      "113 - \n",
      "\n",
      "Samsung 27 inch (68.5 cm) Curved LED Backlit Computer Monitor - Full HD, VA Panel with VGA, HDMI, Audio Ports - LC27F390FHWXXL (Black)\n",
      "\n",
      "\n",
      "Not Extractable\n",
      "Not Extractable\n",
      "Not Extractable\n",
      "Not Extractable\n",
      "118 - \n",
      "\n",
      "Cosmic Byte GS420 Headphones with Mic, RGB LED Lights and Audio Splitter for PS4, (Black/Green)\n",
      "\n",
      "\n",
      "119 - \n",
      "\n",
      "Cosmic Byte GS420 Headphones with Mic, RGB LED Lights and Audio Splitter for PS4, (Black/Green)\n",
      "\n",
      "\n",
      "Not Extractable\n",
      "Not Extractable\n",
      "Not Extractable\n",
      "Not Extractable\n",
      "Not Extractable\n",
      "Not Extractable\n",
      "126 - \n",
      "Tell us how we can improve\n",
      "\n"
     ]
    }
   ],
   "source": [
    "# All the items details\n",
    "itemsdetails=[]\n",
    "for i in range(1,127):\n",
    "    try:\n",
    "        itemsdetails.append(g[i].find_all(\"h2\")[0].text)\n",
    "        print(i,\"-\",g[i].find_all(\"h2\")[0].text) \n",
    "    except:\n",
    "        print(\"Not Extractable\")\n",
    "        \n",
    "    "
   ]
  },
  {
   "cell_type": "code",
   "execution_count": 17,
   "metadata": {},
   "outputs": [
    {
     "data": {
      "text/plain": [
       "43"
      ]
     },
     "execution_count": 17,
     "metadata": {},
     "output_type": "execute_result"
    }
   ],
   "source": [
    "#len(itemno)\n",
    "len(itemsdetails)"
   ]
  },
  {
   "cell_type": "code",
   "execution_count": 18,
   "metadata": {},
   "outputs": [
    {
     "name": "stdout",
     "output_type": "stream",
     "text": [
      "19\n",
      "43\n"
     ]
    }
   ],
   "source": [
    "# itemsprice  --> It will contains the price of the products in itemsdetails.\n",
    "# itemsdetails--> It will contains the info of the products which are present on page.\n",
    "# itemno      --> It will contains the serial no. of items in itemsdetails\n",
    "print(len(itemsprice))\n",
    "print(len(itemsdetails))\n"
   ]
  },
  {
   "cell_type": "code",
   "execution_count": 19,
   "metadata": {},
   "outputs": [
    {
     "data": {
      "text/plain": [
       "['55,990',\n",
       " '68,990',\n",
       " '55,990',\n",
       " '29,690',\n",
       " '65,985',\n",
       " '649',\n",
       " '649',\n",
       " '1,049',\n",
       " '1,399',\n",
       " '62,990',\n",
       " '58,990',\n",
       " '14,799',\n",
       " '8,780',\n",
       " '8,549',\n",
       " '1,299',\n",
       " '209',\n",
       " '8,699',\n",
       " '13,769',\n",
       " '949']"
      ]
     },
     "execution_count": 19,
     "metadata": {},
     "output_type": "execute_result"
    }
   ],
   "source": [
    "itemsprice"
   ]
  },
  {
   "cell_type": "markdown",
   "metadata": {},
   "source": [
    "## Now we only take the different items name in list \"diffitems\""
   ]
  },
  {
   "cell_type": "code",
   "execution_count": 20,
   "metadata": {},
   "outputs": [
    {
     "name": "stdout",
     "output_type": "stream",
     "text": [
      "1  is duplicate element in itemsdetails list\n",
      "2  is duplicate element in itemsdetails list\n",
      "3  is duplicate element in itemsdetails list\n",
      "5  is duplicate element in itemsdetails list\n",
      "6  is duplicate element in itemsdetails list\n",
      "7  is duplicate element in itemsdetails list\n",
      "9  is duplicate element in itemsdetails list\n",
      "11  is duplicate element in itemsdetails list\n",
      "13  is duplicate element in itemsdetails list\n",
      "15  is duplicate element in itemsdetails list\n",
      "17  is duplicate element in itemsdetails list\n",
      "19  is duplicate element in itemsdetails list\n",
      "21  is duplicate element in itemsdetails list\n",
      "23  is duplicate element in itemsdetails list\n",
      "25  is duplicate element in itemsdetails list\n",
      "27  is duplicate element in itemsdetails list\n",
      "29  is duplicate element in itemsdetails list\n",
      "31  is duplicate element in itemsdetails list\n",
      "33  is duplicate element in itemsdetails list\n",
      "35  is duplicate element in itemsdetails list\n",
      "37  is duplicate element in itemsdetails list\n",
      "39  is duplicate element in itemsdetails list\n",
      "41  is duplicate element in itemsdetails list\n",
      "All duplicate items are removed now from itemsdetails list\n"
     ]
    }
   ],
   "source": [
    "\n",
    "diffitems=[]\n",
    "for i in range(len(itemsdetails)):\n",
    "    if itemsdetails[i] not in diffitems:\n",
    "        diffitems.append(itemsdetails[i])\n",
    "    else:\n",
    "        print(i,\" is duplicate element in itemsdetails list\")\n",
    "print(\"All duplicate items are removed now from itemsdetails list\")"
   ]
  },
  {
   "cell_type": "code",
   "execution_count": 21,
   "metadata": {},
   "outputs": [
    {
     "data": {
      "text/plain": [
       "20"
      ]
     },
     "execution_count": 21,
     "metadata": {},
     "output_type": "execute_result"
    }
   ],
   "source": [
    "len(diffitems)"
   ]
  },
  {
   "cell_type": "code",
   "execution_count": 22,
   "metadata": {},
   "outputs": [
    {
     "data": {
      "text/plain": [
       "'\\nTell us how we can improve\\n'"
      ]
     },
     "execution_count": 22,
     "metadata": {},
     "output_type": "execute_result"
    }
   ],
   "source": [
    "diffitems.pop(19)   # diffitems[19] = 'Tell us how we can improve' we removw this element from list \"diffitems\" \n",
    "                    #It was just befor the above the above row because it is performed when there is 20 elements in diffitems list"
   ]
  },
  {
   "cell_type": "markdown",
   "metadata": {},
   "source": [
    "## Print the whole info present on that page"
   ]
  },
  {
   "cell_type": "code",
   "execution_count": 23,
   "metadata": {},
   "outputs": [
    {
     "name": "stdout",
     "output_type": "stream",
     "text": [
      "\n",
      "\n",
      "ASUS TUF FX504 Intel Core i5 8th Gen 15.6-inch FHD Gaming Laptop (8GB/1TB Hybrid HDD (FireCuda)/Windows 10/GTX 1050 4GB Graphics/Gun Metal/2.30 Kg), FX504GD-E4021T\n",
      "\n",
      "\n",
      "\n",
      "\n",
      "HP Pavilion Gaming 15-cx0140tx FHD Gaming Laptop (8th Gen i5-8300H/8GB/1TB HDD/NVIDIA GTX 1050 4GB Graphics/Win 10/MS Office) Shadow Black\n",
      "\n",
      "\n",
      "\n",
      "\n",
      "Dell Inspiron 3567 Intel Core i3 7th Gen 15.6-inch FHD Laptop (4GB/1TB HDD/Windows 10 Home/MS Office/Black/2.5kg)\n",
      "\n",
      "\n",
      "\n",
      "\n",
      "HP Pavilion x360 Core i5 8th Gen 14-inch Touchscreen 2-in-1 FHD Laptop (8GB/1TB+8GB SSHD/Windows 10 Home/MS Office Home & Student 2016/Natural Silver/1.59 kg), cd0080TU\n",
      "\n",
      "\n",
      "\n",
      "\n",
      "Acer Nitro 5 AN515-52 Core i7 8th Gen 8750H Processor 15.6-inch FHD Gaming Laptop (8GB RAM /128 GB SSD with 1TB HDD/Windows 10/NVIDIA GTX Graphics 1050Ti 4GB GDDR5/Black/2.7kg)\n",
      "\n",
      "\n",
      "\n",
      "\n",
      "Logitech M235 Wireless Mouse for Windows and Mac - Black/Grey\n",
      "\n",
      "\n",
      "\n",
      "\n",
      "Logitech M235 Wireless Mouse - Optical Red\n",
      "\n",
      "\n",
      "\n",
      "\n",
      "Logitech M331 Silent Plus Wireless Mouse with Nano Receiver(Red)\n",
      "\n",
      "\n",
      "\n",
      "\n",
      "TP-LINK TL-WR940N Wireless-N450 Home Router (Not a Modem)\n",
      "\n",
      "\n",
      "\n",
      "\n",
      "HP Pavilion Gaming Core i5 8th Gen 15.6-inch FHD Gaming Laptop (8GB/128GB SSD + 1TB HDD/Windows 10/NVIDIA GTX 1050Ti 4GB Graphics/Shadow Black/2.17 kg), 15-bc444TX\n",
      "\n",
      "\n",
      "\n",
      "\n",
      "HP Pavilion Gaming Core i5 8th Gen 15.6-inch FHD Gaming Laptop (8GB/1TB HDD/Windows 10 Home/NVIDIA GTX 1050 4GB Graphics/Shadow Black/2.17 kg),bc406TX\n",
      "\n",
      "\n",
      "\n",
      "\n",
      "Lenovo Tab4 10 Tablet (10.1 inch,16GB,Wi-Fi + 4G LTE) Slate Black\n",
      "\n",
      "\n",
      "\n",
      "\n",
      "Samsung 23.5 inch (59.8 cm) Curved LED Backlit Computer Monitor - Full HD, VA Panel with VGA, HDMI, Audio Ports - LC24F390FHWXXL (Black)\n",
      "\n",
      "\n",
      "\n",
      "\n",
      "LG 22 inch (55cm) IPS Monitor - Full HD, IPS Panel with VGA, HDMI, DVI, Audio Out Ports - 22MP68VQ (Black)\n",
      "\n",
      "\n",
      "\n",
      "\n",
      "TP-Link Archer T2UH AC600 High Gain Wireless Dual Band USB Adapter\n",
      "\n",
      "\n",
      "\n",
      "\n",
      "Kingston 8GB Class 4 Micro SDHC Memory Card\n",
      "\n",
      "\n",
      "\n",
      "\n",
      "HP 21.5 inch (54.6 cm) Edge to Edge LED Backlit Computer Monitor - Full HD, IPS Panel with VGA, HDMI Ports - 22ES (Silver/Black)\n",
      "\n",
      "\n",
      "\n",
      "\n",
      "Samsung 27 inch (68.5 cm) Curved LED Backlit Computer Monitor - Full HD, VA Panel with VGA, HDMI, Audio Ports - LC27F390FHWXXL (Black)\n",
      "\n",
      "\n",
      "\n",
      "\n",
      "Cosmic Byte GS420 Headphones with Mic, RGB LED Lights and Audio Splitter for PS4, (Black/Green)\n",
      "\n",
      "\n"
     ]
    }
   ],
   "source": [
    "for i in range(len(diffitems)):\n",
    "    print(diffitems[i])"
   ]
  },
  {
   "cell_type": "code",
   "execution_count": 24,
   "metadata": {},
   "outputs": [
    {
     "name": "stdout",
     "output_type": "stream",
     "text": [
      "19\n",
      "19\n"
     ]
    }
   ],
   "source": [
    "print(len(diffitems))\n",
    "print(len(itemsprice))"
   ]
  },
  {
   "cell_type": "markdown",
   "metadata": {},
   "source": [
    "## Complete Data In Structured Formate"
   ]
  },
  {
   "cell_type": "raw",
   "metadata": {},
   "source": [
    "In This Formate\n",
    "Item No. __    \n",
    "\n",
    "Description of product\n",
    "\n",
    "Rs.____"
   ]
  },
  {
   "cell_type": "markdown",
   "metadata": {},
   "source": [
    "## Content On \"Amazon top 10 gaming laptops\" Page with product name & its price  "
   ]
  },
  {
   "cell_type": "code",
   "execution_count": 25,
   "metadata": {},
   "outputs": [
    {
     "name": "stdout",
     "output_type": "stream",
     "text": [
      "Item No.  1 \n",
      "\n",
      "ASUS TUF FX504 Intel Core i5 8th Gen 15.6-inch FHD Gaming Laptop (8GB/1TB Hybrid HDD (FireCuda)/Windows 10/GTX 1050 4GB Graphics/Gun Metal/2.30 Kg), FX504GD-E4021T\n",
      "\n",
      "Rs.55,990 \n",
      "\n",
      "\n",
      "\n",
      "Item No.  2 \n",
      "\n",
      "HP Pavilion Gaming 15-cx0140tx FHD Gaming Laptop (8th Gen i5-8300H/8GB/1TB HDD/NVIDIA GTX 1050 4GB Graphics/Win 10/MS Office) Shadow Black\n",
      "\n",
      "Rs.68,990 \n",
      "\n",
      "\n",
      "\n",
      "Item No.  3 \n",
      "\n",
      "Dell Inspiron 3567 Intel Core i3 7th Gen 15.6-inch FHD Laptop (4GB/1TB HDD/Windows 10 Home/MS Office/Black/2.5kg)\n",
      "\n",
      "Rs.55,990 \n",
      "\n",
      "\n",
      "\n",
      "Item No.  4 \n",
      "\n",
      "HP Pavilion x360 Core i5 8th Gen 14-inch Touchscreen 2-in-1 FHD Laptop (8GB/1TB+8GB SSHD/Windows 10 Home/MS Office Home & Student 2016/Natural Silver/1.59 kg), cd0080TU\n",
      "\n",
      "Rs.29,690 \n",
      "\n",
      "\n",
      "\n",
      "Item No.  5 \n",
      "\n",
      "Acer Nitro 5 AN515-52 Core i7 8th Gen 8750H Processor 15.6-inch FHD Gaming Laptop (8GB RAM /128 GB SSD with 1TB HDD/Windows 10/NVIDIA GTX Graphics 1050Ti 4GB GDDR5/Black/2.7kg)\n",
      "\n",
      "Rs.65,985 \n",
      "\n",
      "\n",
      "\n",
      "Item No.  6 \n",
      "\n",
      "Logitech M235 Wireless Mouse for Windows and Mac - Black/Grey\n",
      "\n",
      "Rs.649 \n",
      "\n",
      "\n",
      "\n",
      "Item No.  7 \n",
      "\n",
      "Logitech M235 Wireless Mouse - Optical Red\n",
      "\n",
      "Rs.649 \n",
      "\n",
      "\n",
      "\n",
      "Item No.  8 \n",
      "\n",
      "Logitech M331 Silent Plus Wireless Mouse with Nano Receiver(Red)\n",
      "\n",
      "Rs.1,049 \n",
      "\n",
      "\n",
      "\n",
      "Item No.  9 \n",
      "\n",
      "TP-LINK TL-WR940N Wireless-N450 Home Router (Not a Modem)\n",
      "\n",
      "Rs.1,399 \n",
      "\n",
      "\n",
      "\n",
      "Item No.  10 \n",
      "\n",
      "HP Pavilion Gaming Core i5 8th Gen 15.6-inch FHD Gaming Laptop (8GB/128GB SSD + 1TB HDD/Windows 10/NVIDIA GTX 1050Ti 4GB Graphics/Shadow Black/2.17 kg), 15-bc444TX\n",
      "\n",
      "Rs.62,990 \n",
      "\n",
      "\n",
      "\n",
      "Item No.  11 \n",
      "\n",
      "HP Pavilion Gaming Core i5 8th Gen 15.6-inch FHD Gaming Laptop (8GB/1TB HDD/Windows 10 Home/NVIDIA GTX 1050 4GB Graphics/Shadow Black/2.17 kg),bc406TX\n",
      "\n",
      "Rs.58,990 \n",
      "\n",
      "\n",
      "\n",
      "Item No.  12 \n",
      "\n",
      "Lenovo Tab4 10 Tablet (10.1 inch,16GB,Wi-Fi + 4G LTE) Slate Black\n",
      "\n",
      "Rs.14,799 \n",
      "\n",
      "\n",
      "\n",
      "Item No.  13 \n",
      "\n",
      "Samsung 23.5 inch (59.8 cm) Curved LED Backlit Computer Monitor - Full HD, VA Panel with VGA, HDMI, Audio Ports - LC24F390FHWXXL (Black)\n",
      "\n",
      "Rs.8,780 \n",
      "\n",
      "\n",
      "\n",
      "Item No.  14 \n",
      "\n",
      "LG 22 inch (55cm) IPS Monitor - Full HD, IPS Panel with VGA, HDMI, DVI, Audio Out Ports - 22MP68VQ (Black)\n",
      "\n",
      "Rs.8,549 \n",
      "\n",
      "\n",
      "\n",
      "Item No.  15 \n",
      "\n",
      "TP-Link Archer T2UH AC600 High Gain Wireless Dual Band USB Adapter\n",
      "\n",
      "Rs.1,299 \n",
      "\n",
      "\n",
      "\n",
      "Item No.  16 \n",
      "\n",
      "Kingston 8GB Class 4 Micro SDHC Memory Card\n",
      "\n",
      "Rs.209 \n",
      "\n",
      "\n",
      "\n",
      "Item No.  17 \n",
      "\n",
      "HP 21.5 inch (54.6 cm) Edge to Edge LED Backlit Computer Monitor - Full HD, IPS Panel with VGA, HDMI Ports - 22ES (Silver/Black)\n",
      "\n",
      "Rs.8,699 \n",
      "\n",
      "\n",
      "\n",
      "Item No.  18 \n",
      "\n",
      "Samsung 27 inch (68.5 cm) Curved LED Backlit Computer Monitor - Full HD, VA Panel with VGA, HDMI, Audio Ports - LC27F390FHWXXL (Black)\n",
      "\n",
      "Rs.13,769 \n",
      "\n",
      "\n",
      "\n",
      "Item No.  19 \n",
      "\n",
      "Cosmic Byte GS420 Headphones with Mic, RGB LED Lights and Audio Splitter for PS4, (Black/Green)\n",
      "\n",
      "Rs.949 \n",
      "\n",
      "\n",
      "\n"
     ]
    }
   ],
   "source": [
    "for i in range(0,19):\n",
    "    print(\"Item No. \",i+1,diffitems[i]+\"Rs.\"+itemsprice[i],\"\\n\\n\\n\")"
   ]
  }
 ],
 "metadata": {
  "kernelspec": {
   "display_name": "Python 3",
   "language": "python",
   "name": "python3"
  },
  "language_info": {
   "codemirror_mode": {
    "name": "ipython",
    "version": 3
   },
   "file_extension": ".py",
   "mimetype": "text/x-python",
   "name": "python",
   "nbconvert_exporter": "python",
   "pygments_lexer": "ipython3",
   "version": "3.7.3"
  }
 },
 "nbformat": 4,
 "nbformat_minor": 2
}
