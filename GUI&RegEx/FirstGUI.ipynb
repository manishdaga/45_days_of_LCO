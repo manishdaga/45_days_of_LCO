{
 "cells": [
  {
   "cell_type": "code",
   "execution_count": 88,
   "metadata": {},
   "outputs": [],
   "source": [
    "from tkinter import *\n",
    "\n",
    "window= Tk()\n",
    "window.title(\"Hello World\")\n",
    "window.geometry(\"350x200\")\n",
    "lbl = Label(window,text=\"Hello Guys\",font=('Arial',25))\n",
    "lbl.pack()\n",
    "lbl = Label(window,text=\"What you want to choose\",font=('Calibric',15))\n",
    "lbl.pack(pady=10)\n",
    "\n",
    "def clicked():\n",
    "    messagebox.showinfo('Login Message', 'Work In Progress')\n",
    "    \n",
    "btn = Button(window, text=\"Login\",bg=\"skyblue\",command=clicked)\n",
    "btn.pack(pady=10)\n",
    "\n",
    "def clicked():\n",
    "    messagebox.showinfo('SignUp Message', 'Work In Progress')\n",
    "\n",
    "btn = Button(window, text=\"Signup\",bg=\"skyblue\",command=clicked)\n",
    "btn.pack(pady=10)\n",
    "\n",
    "window.mainloop()\n"
   ]
  },
  {
   "cell_type": "code",
   "execution_count": null,
   "metadata": {},
   "outputs": [],
   "source": []
  }
 ],
 "metadata": {
  "kernelspec": {
   "display_name": "Python 3",
   "language": "python",
   "name": "python3"
  },
  "language_info": {
   "codemirror_mode": {
    "name": "ipython",
    "version": 3
   },
   "file_extension": ".py",
   "mimetype": "text/x-python",
   "name": "python",
   "nbconvert_exporter": "python",
   "pygments_lexer": "ipython3",
   "version": "3.7.3"
  }
 },
 "nbformat": 4,
 "nbformat_minor": 2
}
