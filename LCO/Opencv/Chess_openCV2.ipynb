{
 "cells": [
  {
   "cell_type": "markdown",
   "metadata": {},
   "source": [
    "# Build Chess Board"
   ]
  },
  {
   "cell_type": "markdown",
   "metadata": {},
   "source": [
    "## Method 1"
   ]
  },
  {
   "cell_type": "code",
   "execution_count": 1,
   "metadata": {},
   "outputs": [],
   "source": [
    "import cv2 as cv\n",
    "import numpy as np\n",
    "import matplotlib.pyplot as plt"
   ]
  },
  {
   "cell_type": "code",
   "execution_count": 3,
   "metadata": {},
   "outputs": [],
   "source": [
    "chessboard = np.zeros((8,8))  # a 2D array of zeros(8X8)\n",
    "chessboard\n",
    "chessboard[0::2,0::2] =1   # It will set elements at location 0,2nd,4th,6th rows of all 0,2nd,4th,6th columns to 1\n",
    "#chessboardd[1::2,1::2] =1   # It will set set elements at location 1st,3rd,5th,7th rows of all 1st,3rd,5th,7th columns to 1 \n",
    "#"
   ]
  },
  {
   "cell_type": "code",
   "execution_count": 4,
   "metadata": {},
   "outputs": [
    {
     "name": "stdout",
     "output_type": "stream",
     "text": [
      "Chess Board Is Ready\n"
     ]
    },
    {
     "data": {
      "text/plain": [
       "<matplotlib.image.AxesImage at 0x7f942edd01d0>"
      ]
     },
     "execution_count": 4,
     "metadata": {},
     "output_type": "execute_result"
    },
    {
     "data": {
      "image/png": "[encoded data removed]",
      "text/plain": [
       "<Figure size 432x288 with 1 Axes>"
      ]
     },
     "metadata": {
      "needs_background": "light"
     },
     "output_type": "display_data"
    }
   ],
   "source": [
    "print(\"Chess Board Is Ready\")\n",
    "plt.imshow(chessboard,cmap='binary')"
   ]
  },
  {
   "cell_type": "markdown",
   "metadata": {},
   "source": [
    "## Method 2"
   ]
  },
  {
   "cell_type": "code",
   "execution_count": 5,
   "metadata": {},
   "outputs": [
    {
     "name": "stdout",
     "output_type": "stream",
     "text": [
      "1\n",
      "2\n",
      "3\n",
      "4\n",
      "5\n",
      "6\n",
      "7\n",
      "8\n"
     ]
    },
    {
     "data": {
      "text/plain": [
       "<matplotlib.image.AxesImage at 0x7f942ed6bba8>"
      ]
     },
     "execution_count": 5,
     "metadata": {},
     "output_type": "execute_result"
    },
    {
     "data": {
      "image/png": "[encoded data removed]",
      "text/plain": [
       "<Figure size 432x288 with 1 Axes>"
      ]
     },
     "metadata": {
      "needs_background": "light"
     },
     "output_type": "display_data"
    }
   ],
   "source": [
    "import numpy as np\n",
    "import matplotlib.pyplot as plt\n",
    "# as usual generate white or 3 channel black image \n",
    "# here I'am generating black image\n",
    "chess=np.zeros((240,240,3),dtype='uint32')\n",
    "toggle=True  #used for selecting the alternate rows\n",
    "\n",
    "box= chess.shape[0]//30\n",
    "\n",
    "for row in range(1,box+1,1):\n",
    "    print(row)\n",
    "    #print(quar)\n",
    "    for col in range(1,box+1,2):\n",
    "        #print(col)\n",
    "        if toggle:\n",
    "            #print(row)    \n",
    "            #It will paint the cols=1,3,5,7\n",
    "            chess[:,:,:][(row-1)*30:row*30,(col-1)*30:col*30]=255\n",
    "        else:\n",
    "            #It will paint the cols=2,4,6,8\n",
    "            col+=1\n",
    "            chess[:,:,:][(row-1)*30:row*30,(col-1)*30:col*30]=255\n",
    "    toggle=not toggle\n",
    "    \n",
    "plt.imshow(chess)\n",
    "\n"
   ]
  }
 ],
 "metadata": {
  "kernelspec": {
   "display_name": "Python 3",
   "language": "python",
   "name": "python3"
  },
  "language_info": {
   "codemirror_mode": {
    "name": "ipython",
    "version": 3
   },
   "file_extension": ".py",
   "mimetype": "text/x-python",
   "name": "python",
   "nbconvert_exporter": "python",
   "pygments_lexer": "ipython3",
   "version": "3.7.3"
  }
 },
 "nbformat": 4,
 "nbformat_minor": 2
}
