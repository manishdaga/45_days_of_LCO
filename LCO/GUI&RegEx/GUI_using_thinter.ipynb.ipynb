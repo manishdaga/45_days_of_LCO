{
 "cells": [
  {
   "cell_type": "markdown",
   "metadata": {},
   "source": [
    "## A Simple GUI "
   ]
  },
  {
   "cell_type": "code",
   "execution_count": 10,
   "metadata": {},
   "outputs": [],
   "source": [
    "from tkinter import *\n",
    "import os\n",
    "\n",
    "def main_account_screen():\n",
    "    \n",
    "    main_screen = Tk()   # create a GUI window \n",
    "    main_screen.geometry(\"300x250\") # set the configuration of GUI window \n",
    "    main_screen.title(\"Account Login\") # set the title of GUI window\n",
    " \n",
    "# create a Form label \n",
    "Label(text=\"You want to Login Or Register\", bg=\"skyblue\", width=\"300\", height=\"2\", font=(\"Calibri\", 13)).pack() \n",
    "Label(text=\"\").pack() \n",
    " \n",
    "# create Login Button \n",
    "Button(text=\"Login\", height=\"2\", width=\"30\").pack() \n",
    "Label(text=\"\").pack() \n",
    " \n",
    "# create a register button\n",
    "Button(text=\"Register\", height=\"2\", width=\"30\").pack()\n",
    " \n",
    "main_screen.mainloop() # start the GUI\n",
    " \n",
    "main_account_screen() # call the main_account_screen() function"
   ]
  },
  {
   "cell_type": "code",
   "execution_count": null,
   "metadata": {},
   "outputs": [],
   "source": []
  },
  {
   "cell_type": "code",
   "execution_count": null,
   "metadata": {},
   "outputs": [],
   "source": []
  }
 ],
 "metadata": {
  "kernelspec": {
   "display_name": "Python 3",
   "language": "python",
   "name": "python3"
  },
  "language_info": {
   "codemirror_mode": {
    "name": "ipython",
    "version": 3
   },
   "file_extension": ".py",
   "mimetype": "text/x-python",
   "name": "python",
   "nbconvert_exporter": "python",
   "pygments_lexer": "ipython3",
   "version": "3.7.3"
  }
 },
 "nbformat": 4,
 "nbformat_minor": 2
}
