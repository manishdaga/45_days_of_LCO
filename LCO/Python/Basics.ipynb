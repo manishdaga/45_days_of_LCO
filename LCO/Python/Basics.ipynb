{
 "cells": [
  {
   "cell_type": "code",
   "execution_count": 1,
   "metadata": {},
   "outputs": [
    {
     "name": "stdout",
     "output_type": "stream",
     "text": [
      "Input the color of applered\n",
      "Enter no. one 1\n",
      "Enter no. two2\n",
      "the sum of these two no. is  3\n",
      "15\n",
      "15\n",
      "15\n",
      "6\n"
     ]
    }
   ],
   "source": [
    "var=input(\"Input the color of apple\")\n",
    "var1=int(input(\"Enter no. one \"))\n",
    "var2=int(input(\"Enter no. two\"))\n",
    "print(\"the sum of these two no. is \",var1+var2)\n",
    "print(sum([1, 2, 3, 4, 5])) # sum values in a list\n",
    "print(sum((1, 2, 3, 4, 5))) # sum values in a tuple \n",
    "print(sum({1, 2, 3, 4, 5})) # sum values in a set\n",
    "print(sum({1: \"one\", 2: \"two\", 3: \"three\"})) # sum values in a \n"
   ]
  },
  {
   "cell_type": "code",
   "execution_count": 2,
   "metadata": {},
   "outputs": [
    {
     "name": "stdout",
     "output_type": "stream",
     "text": [
      "Welcome to Paytm\n",
      "\n",
      "Enter the amount for recharge100\n",
      "Recharge Successfully for 100 amount\n"
     ]
    }
   ],
   "source": [
    "print(\"Welcome to Paytm\\n\")\n",
    "recharge=int(input(\"Enter the amount for recharge\"))\n",
    "print(\"Recharge Successfully for\",recharge,\"amount\")"
   ]
  },
  {
   "cell_type": "code",
   "execution_count": 3,
   "metadata": {},
   "outputs": [
    {
     "name": "stdout",
     "output_type": "stream",
     "text": [
      "Welcome to Paytm\n",
      "\n",
      "Enter the amount for recharge150\n",
      "Recharge Successfully for 150 amount\n",
      "Balance you got is 105.0\n",
      "After deduction of 18% to Modi Ji 86.1\n"
     ]
    }
   ],
   "source": [
    "print(\"Welcome to Paytm\\n\")\n",
    "recharge=int(input(\"Enter the amount for recharge\"))\n",
    "finalrecharge= recharge*0.7\n",
    "print(\"Recharge Successfully for\",recharge,\"amount\")\n",
    "print(\"Balance you got is\",finalrecharge)\n",
    "final2= finalrecharge*0.82\n",
    "print(\"After deduction of 18% to Modi Ji\",final2)"
   ]
  },
  {
   "cell_type": "markdown",
   "metadata": {},
   "source": [
    "print(Data Types)\n"
   ]
  },
  {
   "cell_type": "markdown",
   "metadata": {},
   "source": [
    "## Data Types\n",
    "1-Tupple\\n 2- List\\n 3-Dictionary\")"
   ]
  },
  {
   "cell_type": "code",
   "execution_count": 4,
   "metadata": {},
   "outputs": [],
   "source": [
    "var1=(\"lco\",\"jaipur\",30,False)"
   ]
  },
  {
   "cell_type": "code",
   "execution_count": 5,
   "metadata": {},
   "outputs": [
    {
     "data": {
      "text/plain": [
       "('lco', 'jaipur', 30, False)"
      ]
     },
     "execution_count": 5,
     "metadata": {},
     "output_type": "execute_result"
    }
   ],
   "source": [
    "var1"
   ]
  },
  {
   "cell_type": "code",
   "execution_count": 6,
   "metadata": {},
   "outputs": [
    {
     "name": "stdout",
     "output_type": "stream",
     "text": [
      "Welcome to Paytm Mall\n",
      "Item\t\t Prices\n",
      "Shoes \t\t 500\n",
      "Jeans \t\t 3000\n",
      "T-Shirt          2000\n"
     ]
    }
   ],
   "source": [
    "Items=(\"Shoes\",\"Jeans\",\"T-Shirt\")\n",
    "ItemsPrice=(500,3000,2000)\n",
    "print(\"Welcome to Paytm Mall\")\n",
    "print(\"Item\\t\\t Prices\")\n",
    "print(Items[0],\"\\t\\t\",ItemsPrice[0])\n",
    "print(Items[1],\"\\t\\t\",ItemsPrice[1])\n",
    "print(Items[2],\" \"*8,ItemsPrice[2])"
   ]
  },
  {
   "cell_type": "markdown",
   "metadata": {},
   "source": [
    "## Shopping Mall Application"
   ]
  },
  {
   "cell_type": "code",
   "execution_count": 7,
   "metadata": {},
   "outputs": [
    {
     "name": "stdout",
     "output_type": "stream",
     "text": [
      "Welcome to Shopping Mall\n",
      "Items\t\tPrice\n",
      "Apple \t\t 20\n",
      "Pizza \t\t 100\n",
      "Burger \t\t 20\n",
      "Cold Coffee \t\t 60\n"
     ]
    }
   ],
   "source": [
    "items=(\"Apple\",\"Pizza\",\"Burger\",\"Cold Coffee\")\n",
    "price=(20,100,20,60)\n",
    "\n",
    "print(\"Welcome to Shopping Mall\")\n",
    "print(\"Items\\t\\tPrice\")\n",
    "for i in range(0,4):\n",
    "    print(items[i],\"\\t\\t\",price[i])\n"
   ]
  },
  {
   "cell_type": "code",
   "execution_count": 9,
   "metadata": {
    "collapsed": true
   },
   "outputs": [
    {
     "name": "stdout",
     "output_type": "stream",
     "text": [
      "We want to add item\n",
      "\n",
      "Enter the name of itemApple\n",
      "Enter the price of item20\n"
     ]
    },
    {
     "ename": "AttributeError",
     "evalue": "'tuple' object has no attribute 'append'",
     "output_type": "error",
     "traceback": [
      "\u001b[0;31m---------------------------------------------------------------------------\u001b[0m",
      "\u001b[0;31mAttributeError\u001b[0m                            Traceback (most recent call last)",
      "\u001b[0;32m<ipython-input-9-be9876bddc66>\u001b[0m in \u001b[0;36m<module>\u001b[0;34m\u001b[0m\n\u001b[1;32m      2\u001b[0m \u001b[0mIT1\u001b[0m\u001b[0;34m=\u001b[0m\u001b[0minput\u001b[0m\u001b[0;34m(\u001b[0m\u001b[0;34m\"Enter the name of item\"\u001b[0m\u001b[0;34m)\u001b[0m\u001b[0;34m\u001b[0m\u001b[0;34m\u001b[0m\u001b[0m\n\u001b[1;32m      3\u001b[0m \u001b[0mPC1\u001b[0m\u001b[0;34m=\u001b[0m\u001b[0mint\u001b[0m\u001b[0;34m(\u001b[0m\u001b[0minput\u001b[0m\u001b[0;34m(\u001b[0m\u001b[0;34m\"Enter the price of item\"\u001b[0m\u001b[0;34m)\u001b[0m\u001b[0;34m)\u001b[0m\u001b[0;34m\u001b[0m\u001b[0;34m\u001b[0m\u001b[0m\n\u001b[0;32m----> 4\u001b[0;31m \u001b[0mitems\u001b[0m\u001b[0;34m.\u001b[0m\u001b[0mappend\u001b[0m\u001b[0;34m(\u001b[0m\u001b[0mIT1\u001b[0m\u001b[0;34m)\u001b[0m\u001b[0;34m\u001b[0m\u001b[0;34m\u001b[0m\u001b[0m\n\u001b[0m\u001b[1;32m      5\u001b[0m \u001b[0mprice\u001b[0m\u001b[0;34m.\u001b[0m\u001b[0mappend\u001b[0m\u001b[0;34m(\u001b[0m\u001b[0mPC1\u001b[0m\u001b[0;34m)\u001b[0m\u001b[0;34m\u001b[0m\u001b[0;34m\u001b[0m\u001b[0m\n\u001b[1;32m      6\u001b[0m \u001b[0;31m#error comes because tupple doesn't support append because it is immutable\u001b[0m\u001b[0;34m\u001b[0m\u001b[0;34m\u001b[0m\u001b[0;34m\u001b[0m\u001b[0m\n",
      "\u001b[0;31mAttributeError\u001b[0m: 'tuple' object has no attribute 'append'"
     ]
    }
   ],
   "source": [
    "print(\"We want to add item\\n\")\n",
    "IT1=input(\"Enter the name of item\")\n",
    "PC1=int(input(\"Enter the price of item\"))\n",
    "items.append(IT1)\n",
    "price.append(PC1)\n",
    "#error comes because tupple doesn't support append because it is immutable "
   ]
  },
  {
   "cell_type": "markdown",
   "metadata": {},
   "source": [
    "## IF & ELSE"
   ]
  },
  {
   "cell_type": "code",
   "execution_count": 10,
   "metadata": {},
   "outputs": [
    {
     "name": "stdout",
     "output_type": "stream",
     "text": [
      "Enter a no.11\n",
      "11 is odd no.\n"
     ]
    }
   ],
   "source": [
    "val=int(input(\"Enter a no.\"))\n",
    "if val%2 == 0 :\n",
    "    print(val,\" is even no.\")\n",
    "else: \n",
    "    print(val,\"is odd no.\")    "
   ]
  },
  {
   "cell_type": "code",
   "execution_count": 11,
   "metadata": {},
   "outputs": [],
   "source": [
    "## greater no."
   ]
  },
  {
   "cell_type": "code",
   "execution_count": 12,
   "metadata": {},
   "outputs": [
    {
     "name": "stdout",
     "output_type": "stream",
     "text": [
      "Enter no.112\n",
      "Enter no.215\n",
      "Enter no.346\n",
      "15 is greatest in all\n"
     ]
    }
   ],
   "source": [
    "var1=int(input(\"Enter no.1\"))\n",
    "var2=int(input(\"Enter no.2\"))\n",
    "var3=int(input(\"Enter no.3\"))\n",
    "\n",
    "if var1 > var2 & var1 > var3:\n",
    "    print(val1 ,\"is greatest in all\")\n",
    "elif var2> var3 & var2 > var1:\n",
    "    print(var2,\"is greatest in all\")\n",
    "else: \n",
    "    print(var3,\"is greatest in all\")\n",
    "    \n",
    "l=max(var1,var2,var3)    \n",
    "    \n",
    "        "
   ]
  },
  {
   "cell_type": "markdown",
   "metadata": {},
   "source": [
    "## Some thing good"
   ]
  },
  {
   "cell_type": "code",
   "execution_count": 13,
   "metadata": {},
   "outputs": [
    {
     "name": "stdout",
     "output_type": "stream",
     "text": [
      "[0, 1, 2, 3, 4, 5, 6, 7, 8, 9, 10]\n"
     ]
    }
   ],
   "source": [
    "list=[]\n",
    "for i in range(0,11):\n",
    "    list.append(i)\n",
    "print(list)   \n"
   ]
  },
  {
   "cell_type": "markdown",
   "metadata": {},
   "source": [
    "## List Comprehension"
   ]
  },
  {
   "cell_type": "code",
   "execution_count": 14,
   "metadata": {},
   "outputs": [
    {
     "data": {
      "text/plain": [
       "[1, 2, 3, 4, 5, 6, 7, 8, 9, 10]"
      ]
     },
     "execution_count": 14,
     "metadata": {},
     "output_type": "execute_result"
    }
   ],
   "source": [
    "[i  for i in range(1,11)]"
   ]
  },
  {
   "cell_type": "code",
   "execution_count": 15,
   "metadata": {},
   "outputs": [
    {
     "name": "stdout",
     "output_type": "stream",
     "text": [
      "['hi', 'i', 'am', 'tanmaya']\n"
     ]
    }
   ],
   "source": [
    "p=\"hi i am tanmaya\".split()\n",
    "print(p)"
   ]
  },
  {
   "cell_type": "code",
   "execution_count": 16,
   "metadata": {},
   "outputs": [
    {
     "name": "stdout",
     "output_type": "stream",
     "text": [
      "Enter your no.s2u\n"
     ]
    },
    {
     "data": {
      "text/plain": [
       "'2u'"
      ]
     },
     "execution_count": 16,
     "metadata": {},
     "output_type": "execute_result"
    }
   ],
   "source": [
    "q=max(input(\"Enter your no.s\").split())\n",
    "q"
   ]
  },
  {
   "cell_type": "code",
   "execution_count": null,
   "metadata": {},
   "outputs": [],
   "source": []
  }
 ],
 "metadata": {
  "kernelspec": {
   "display_name": "Python 3",
   "language": "python",
   "name": "python3"
  },
  "language_info": {
   "codemirror_mode": {
    "name": "ipython",
    "version": 3
   },
   "file_extension": ".py",
   "mimetype": "text/x-python",
   "name": "python",
   "nbconvert_exporter": "python",
   "pygments_lexer": "ipython3",
   "version": "3.7.3"
  }
 },
 "nbformat": 4,
 "nbformat_minor": 2
}
