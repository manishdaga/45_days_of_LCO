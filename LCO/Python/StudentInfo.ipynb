{
 "cells": [
  {
   "cell_type": "markdown",
   "metadata": {},
   "source": [
    "# Student Information"
   ]
  },
  {
   "cell_type": "markdown",
   "metadata": {},
   "source": [
    "## Module1:- First Name, Last Name,Father's Name"
   ]
  },
  {
   "cell_type": "code",
   "execution_count": 1,
   "metadata": {},
   "outputs": [
    {
     "name": "stdout",
     "output_type": "stream",
     "text": [
      "Enter First NameManish\n",
      "Enter Last NameDaga\n",
      "Enter Father's NameSukhdev daga\n"
     ]
    }
   ],
   "source": [
    "Fname=input(\"Enter First Name\")\n",
    "Lname=input(\"Enter Last Name\")\n",
    "Faname=input(\"Enter Father's Name\")"
   ]
  },
  {
   "cell_type": "markdown",
   "metadata": {},
   "source": [
    "# Module2:- Rollno,course,sem,sub marks"
   ]
  },
  {
   "cell_type": "code",
   "execution_count": 2,
   "metadata": {},
   "outputs": [
    {
     "name": "stdout",
     "output_type": "stream",
     "text": [
      "Enter Rollno19990\n",
      "Enter your course nameLearn Python\n",
      "Enter semester1st\n",
      "Enter marks of all 6 subjects\n",
      "Enter marks of DAA90\n",
      "Enter marks of DBMS79\n",
      "Enter marks of OS68\n",
      "Enter marks of TOC86\n",
      "Enter marks of DSA69\n",
      "Enter marks of POC90\n",
      "80.33 %\n"
     ]
    }
   ],
   "source": [
    "Rno=input(\"Enter Rollno\")\n",
    "Course=input(\"Enter your course name\")\n",
    "Sem=input(\"Enter semester\")\n",
    "#Taking marks of all subjects\n",
    "print(\"Enter marks of all 6 subjects\")\n",
    "DAA=int(input(\"Enter marks of DAA\"))\n",
    "DBMS=int(input(\"Enter marks of DBMS\"))\n",
    "OS=int(input(\"Enter marks of OS\"))\n",
    "TOC=int(input(\"Enter marks of TOC\"))\n",
    "DSA=int(input(\"Enter marks of DSA\"))\n",
    "POC=int(input(\"Enter marks of POC\"))\n",
    "Sum=DAA+DBMS+OS+TOC+DSA+POC\n",
    "Aggpercentage=Sum/6\n",
    "print(round(Aggpercentage,2) ,\"%\")"
   ]
  },
  {
   "cell_type": "markdown",
   "metadata": {},
   "source": [
    "# Module3:- ContactNo.,Address,Email,Father's Occupation,Father's ContactNo."
   ]
  },
  {
   "cell_type": "code",
   "execution_count": 4,
   "metadata": {},
   "outputs": [
    {
     "name": "stdout",
     "output_type": "stream",
     "text": [
      "Enter Contact No.6378177023\n",
      "Enter your addressnear Taj Mahal\n",
      "Enter Email IDmanishdagamanish@gmail.com\n",
      "This is a valid email address\n",
      "Enter Father's OccupationShopkeeper\n",
      "Enter Father's Contact No.8058564591\\\n"
     ]
    }
   ],
   "source": [
    "import re\n",
    "\n",
    "ContactNo=int(input(\"Enter Contact No.\"))\n",
    "Add=input(\"Enter your address\")\n",
    "email=input(\"Enter Email ID\") \n",
    "\n",
    "#Email Validation\n",
    "def isValidEmail(email):\n",
    "    if len(email) > 7:\n",
    "        if(re.search(r'\\b[A-Z0-9._%+-]+@[A-Z0-9.-]+\\.[A-Z]{2,}\\b', email, re.I)):\n",
    "            return True\n",
    "        else: return False\n",
    "        print(match.group())\n",
    "    else: return False    \n",
    "\n",
    "if isValidEmail(email) == True :\n",
    "    print(\"This is a valid email address\") \n",
    "else:\n",
    "    print(\"This is not a valid email address\") \n",
    "\n",
    "Focc=input(\"Enter Father's Occupation\")\n",
    "FContno=input(\"Enter Father's Contact No.\")"
   ]
  },
  {
   "cell_type": "code",
   "execution_count": null,
   "metadata": {},
   "outputs": [],
   "source": []
  },
  {
   "cell_type": "markdown",
   "metadata": {},
   "source": [
    "## Complete Details Of Student"
   ]
  },
  {
   "cell_type": "code",
   "execution_count": 5,
   "metadata": {},
   "outputs": [
    {
     "name": "stdout",
     "output_type": "stream",
     "text": [
      "*****************************************************************************************************************************\n",
      "\n",
      "\n",
      "************************************************** Student Information ******************************************************\n",
      "\n",
      "\n",
      "*****************************************************************************************************************************\n",
      "\n",
      "\n",
      "\n",
      "          First Name:\t\tManish                              Last Name:\t\t   Daga\n",
      "\n",
      "\n",
      "          Father's Name:\tSukhdev daga                       Father's Occupation:  Shopkeeper\n",
      "\n",
      "\n",
      "          Father's Contact no:  8058564591\\\n",
      "\n",
      "\n",
      "          Rollno.:\t\t19990\t\t\t     Course:\t\t   Learn Python\n",
      "\n",
      "\n",
      "          Semester:\t\t1st          \t\t\t     Aggregate Marks:      80.33 %\n",
      "\n",
      "\n",
      "          Adress:\t\tnear Taj Mahal      Email: \t\t   manishdagamanish@gmail.com\n",
      "\n",
      "\n",
      "          Contact No.:\t        6378177023\n"
     ]
    }
   ],
   "source": [
    "print(\"*\"*125)\n",
    "print(\"\\n\")\n",
    "print(\"*\"*50,\"Student Information\",\"*\"*54)\n",
    "print(\"\\n\")\n",
    "print(\"*\"*125)\n",
    "\n",
    "print(\"\\n\\n\")\n",
    "print(\" \"*10 + \"First Name:\\t\\t\"+ Fname + \" \"*30 + \"Last Name:\\t\\t   \" + Lname)\n",
    "print(\"\\n\")\n",
    "print(\" \"*10 + \"Father's Name:\\t\" + Faname + \" \"*21 +\" \"*2+\"Father's Occupation:  \" +Focc)\n",
    "print(\"\\n\")\n",
    "print(\" \"*10 + \"Father's Contact no:  \" + FContno)\n",
    "print(\"\\n\")\n",
    "print(\" \"*10 + \"Rollno.:\\t\\t\" + Rno +\"\\t\\t\\t\"+ \" \"*5+ \"Course:\\t\\t   \" + Course )\n",
    "print(\"\\n\")\n",
    "print(\" \"*10 + \"Semester:\\t\\t\" + Sem + \" \"*10 + \"\\t\\t\\t\" +\" \"*5+ \"Aggregate Marks:     \" , round(Aggpercentage,2) ,\"%\")\n",
    "print(\"\\n\")\n",
    "print(\" \"*10 + \"Adress:\\t\\t\" + Add + \" \"*6 + \"Email: \\t\\t   \" + email)\n",
    "print(\"\\n\")\n",
    "print(\" \"*10 + \"Contact No.:\\t\" + \" \"*7 , ContactNo)"
   ]
  }
 ],
 "metadata": {
  "kernelspec": {
   "display_name": "Python 3",
   "language": "python",
   "name": "python3"
  },
  "language_info": {
   "codemirror_mode": {
    "name": "ipython",
    "version": 3
   },
   "file_extension": ".py",
   "mimetype": "text/x-python",
   "name": "python",
   "nbconvert_exporter": "python",
   "pygments_lexer": "ipython3",
   "version": "3.7.3"
  }
 },
 "nbformat": 4,
 "nbformat_minor": 2
}
