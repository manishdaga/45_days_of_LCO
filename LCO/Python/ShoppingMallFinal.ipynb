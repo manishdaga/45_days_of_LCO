{
 "cells": [
  {
   "cell_type": "markdown",
   "metadata": {},
   "source": [
    "## Shopping Mall App\n",
    "step 1:make categories & items\n",
    "step 2:respective price list\n",
    "step 3:print those items to the user\n",
    "step 4:put the system of cart\n",
    "step 5:subtotal\n",
    "step 6:bill"
   ]
  },
  {
   "cell_type": "code",
   "execution_count": 2,
   "metadata": {},
   "outputs": [
    {
     "name": "stdout",
     "output_type": "stream",
     "text": [
      "                                                  Welcome to the Mall\n",
      "\n",
      "\n",
      "Food\t\t\t\tSports\t\t\t\t\tCosmetics\n",
      "0 Candy\t100\t\t\t 3 Badminton Racket\t12000\t\t\t 6 Suns Cream\t200\t\t\t\n",
      "\n",
      "\n",
      "1 Burger\t30\t\t\t 4 Shuttle\t650\t\t\t 7 Lotion\t300\t\t\t\n",
      "\n",
      "\n",
      "2 Pizza\t150\t\t\t 5 Kit Bags\t3200\t\t\t 8 BoroPlus\t100\t\t\t\n",
      "\n",
      "\n",
      "Press 10 for exit\n",
      "Enter any no.1\n",
      "Enter any no.5\n",
      "Enter any no.8\n",
      "Enter any no.6\n",
      "Enter any no.10\n",
      "[1, 5, 8, 6]\n",
      "Your Cart Contains: \n",
      "Burger    Rs.  30\n",
      "Kit Bags    Rs.  3200\n",
      "BoroPlus    Rs.  100\n",
      "Suns Cream    Rs.  200\n",
      "Your total bill is Rs.  3530\n"
     ]
    }
   ],
   "source": [
    "print(\" \"*50+\"Welcome to the Mall\")\n",
    "categories= [\"Food\",\"Sports\",\"Cosmetics\"]\n",
    "items= [\"Candy\",\"Burger\",\"Pizza\",\"Badminton Racket\",\"Shuttle\",\"Kit Bags\",\"Suns Cream\",\"Lotion\",\"BoroPlus\"]\n",
    "price=[100,30,150,12000,650,3200,200,300,100]\n",
    "print(\"\\n\")\n",
    "print(categories[0]+\"\\t\\t\\t\\t\"+categories[1]+\"\\t\\t\\t\\t\\t\"+categories[2])\n",
    "\n",
    "for i in range(0,3):\n",
    "    print(str(i)+\" \"+items[i]+\"\\t\"+str(price[i])+\"\\t\\t\\t\",str(i+3)+\" \"+items[i+3]+\"\\t\"+str(price[i+3])+\"\\t\\t\\t\",str(i+6)+\" \"+items[i+6]+\"\\t\"+str(price[i+6])+\"\\t\\t\\t\")\n",
    "    print(\"\\n\")\n",
    "print(\"Press 10 for exit\")    \n",
    "control=0\n",
    "cart=[]\n",
    "while  control!=10:\n",
    "    control=int(input(\"Enter any no.\"))\n",
    "#    if control not in cart:\n",
    "    cart.append(control)    \n",
    "    \n",
    "print(cart[:-1])\n",
    "lencart=len(cart)-1\n",
    "print(\"Your Cart Contains: \")\n",
    "for i in range(0,lencart):\n",
    "    print(items[cart[i]]+\" \"*4+\"Rs. \",price[cart[i]])\n",
    "\n",
    "total=0\n",
    "\n",
    "for i in range(0,lencart):\n",
    "               total= price[cart[i]] + total\n",
    "print(\"Your total bill is Rs. \" ,total)               "
   ]
  },
  {
   "cell_type": "code",
   "execution_count": null,
   "metadata": {},
   "outputs": [],
   "source": []
  }
 ],
 "metadata": {
  "kernelspec": {
   "display_name": "Python 3",
   "language": "python",
   "name": "python3"
  },
  "language_info": {
   "codemirror_mode": {
    "name": "ipython",
    "version": 3
   },
   "file_extension": ".py",
   "mimetype": "text/x-python",
   "name": "python",
   "nbconvert_exporter": "python",
   "pygments_lexer": "ipython3",
   "version": "3.7.3"
  }
 },
 "nbformat": 4,
 "nbformat_minor": 2
}
