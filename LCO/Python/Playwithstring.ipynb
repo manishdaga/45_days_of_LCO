{
 "cells": [
  {
   "cell_type": "markdown",
   "metadata": {},
   "source": [
    "## Count No. of words & spaces in a line"
   ]
  },
  {
   "cell_type": "code",
   "execution_count": 1,
   "metadata": {},
   "outputs": [
    {
     "name": "stdout",
     "output_type": "stream",
     "text": [
      "Enter a line you want to entermy name is manish\n",
      "There are  4  words &  3  spaces are present in the given string\n"
     ]
    }
   ],
   "source": [
    "line=input(\"Enter a line you want to enter\")\n",
    "L1=line.split()\n",
    "L1\n",
    "words=len(L1)\n",
    "spaces=len(L1)-1\n",
    "print(\"There are \",words,\" words & \",spaces,\" spaces are present in the given string\")"
   ]
  },
  {
   "cell_type": "markdown",
   "metadata": {},
   "source": [
    "## Search a word in a string"
   ]
  },
  {
   "cell_type": "code",
   "execution_count": 2,
   "metadata": {},
   "outputs": [
    {
     "name": "stdout",
     "output_type": "stream",
     "text": [
      "Enter a line you want to entermy name is manish\n",
      "Enter a word you want to search in given stringmanish\n",
      "\n",
      "\n",
      "manish is present in:  my name is manish\n"
     ]
    }
   ],
   "source": [
    "Line=input(\"Enter a line you want to enter\")\n",
    "L2=Line.split()\n",
    "\n",
    "S=input(\"Enter a word you want to search in given string\")\n",
    "print(\"\\n\")\n",
    "\n",
    "L2\n",
    "S\n",
    "\n",
    "if S in L2:\n",
    "    print(S+\" is present in: \", Line)\n",
    "else:\n",
    "    print(S+\" is not present in: \", Line)"
   ]
  },
  {
   "cell_type": "markdown",
   "metadata": {},
   "source": [
    "## Search no. of a particular character in a string"
   ]
  },
  {
   "cell_type": "code",
   "execution_count": 3,
   "metadata": {},
   "outputs": [
    {
     "name": "stdout",
     "output_type": "stream",
     "text": [
      "Enter the string you wanthow is going on\n",
      "Enter the character you want to searchgoing\n",
      "going is present  1  times in given string\n"
     ]
    }
   ],
   "source": [
    "#method 1 using count function \n",
    "String=input(\"Enter the string you want\")\n",
    "char=input(\"Enter the character you want to search\")\n",
    "count=String.count(char)\n",
    "print(char+\" is present \",count,\" times in given string\")"
   ]
  },
  {
   "cell_type": "markdown",
   "metadata": {},
   "source": [
    "## Split a word & put it in list"
   ]
  },
  {
   "cell_type": "code",
   "execution_count": 4,
   "metadata": {},
   "outputs": [
    {
     "name": "stdout",
     "output_type": "stream",
     "text": [
      "Enter the wordhow are you\n",
      "Enter a character you want to searchyou\n"
     ]
    }
   ],
   "source": [
    "word=input(\"Enter the word\")\n",
    "wordsplit=list(word)\n",
    "wordsplit\n",
    "a=input(\"Enter a character you want to search\")\n",
    "if a in wordsplit:\n",
    "    print(a+\" is present in this string\")"
   ]
  },
  {
   "cell_type": "code",
   "execution_count": null,
   "metadata": {},
   "outputs": [],
   "source": []
  }
 ],
 "metadata": {
  "kernelspec": {
   "display_name": "Python 3",
   "language": "python",
   "name": "python3"
  },
  "language_info": {
   "codemirror_mode": {
    "name": "ipython",
    "version": 3
   },
   "file_extension": ".py",
   "mimetype": "text/x-python",
   "name": "python",
   "nbconvert_exporter": "python",
   "pygments_lexer": "ipython3",
   "version": "3.7.3"
  }
 },
 "nbformat": 4,
 "nbformat_minor": 2
}
