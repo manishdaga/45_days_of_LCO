{
 "cells": [
  {
   "cell_type": "markdown",
   "metadata": {},
   "source": [
    "## Login & Signup System"
   ]
  },
  {
   "cell_type": "code",
   "execution_count": null,
   "metadata": {},
   "outputs": [
    {
     "name": "stdout",
     "output_type": "stream",
     "text": [
      "Login And Signup\n",
      " 1. Login\n",
      " 2. SignUp \n",
      " 3. Exit\n",
      "Enter your choice...1\n",
      "Enter your useridmanish\n",
      "Enter your passwordmanish\n",
      "Enter your choice...2\n",
      "Enter your useridmanish\n",
      "enter your passwordmanish\n"
     ]
    }
   ],
   "source": [
    "user=[\"Hello\"]\n",
    "pwd=[\"1234\"]\n",
    "print(\"Login And Signup\\n 1. Login\\n 2. SignUp \\n 3. Exit\")\n",
    "\n",
    "while 1:\n",
    "    check=int(input(\"Enter your choice...\"))\n",
    "    if check==1:\n",
    "        u=input(\"Enter your userid\")\n",
    "        p=input(\"Enter your password\")\n",
    "        if u in user:\n",
    "            i=user.index(u)\n",
    "            \n",
    "            if pwd[i]==p:\n",
    "                print(\"Login Successful\")\n",
    "            else:\n",
    "                print(\"Access Denied!!!\")\n",
    "    elif check==2:\n",
    "        u=input(\"Enter your userid\")\n",
    "        p=input(\"enter your password\")\n",
    "        user.append(u)\n",
    "        pwd.append(p)\n",
    "        #Signup\n",
    "    else:\n",
    "        break\n",
    "        print(\"Choose appropiate selection\")\n",
    "        "
   ]
  },
  {
   "cell_type": "markdown",
   "metadata": {},
   "source": [
    " "
   ]
  }
 ],
 "metadata": {
  "kernelspec": {
   "display_name": "Python 3",
   "language": "python",
   "name": "python3"
  },
  "language_info": {
   "codemirror_mode": {
    "name": "ipython",
    "version": 3
   },
   "file_extension": ".py",
   "mimetype": "text/x-python",
   "name": "python",
   "nbconvert_exporter": "python",
   "pygments_lexer": "ipython3",
   "version": "3.7.3"
  }
 },
 "nbformat": 4,
 "nbformat_minor": 2
}
