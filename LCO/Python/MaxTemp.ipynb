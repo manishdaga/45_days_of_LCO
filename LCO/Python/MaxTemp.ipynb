{
 "cells": [
  {
   "cell_type": "markdown",
   "metadata": {},
   "source": [
    "## Project -> Find the name of the hottest city of the India on today's date "
   ]
  },
  {
   "cell_type": "code",
   "execution_count": 1,
   "metadata": {},
   "outputs": [],
   "source": [
    "import requests as rs   #used to request for data\n",
    "import json\n"
   ]
  },
  {
   "cell_type": "markdown",
   "metadata": {},
   "source": [
    "## We use an API of openweathermap\n",
    "\n",
    "so go to the website of openweather & create an account there then go to your mail & click on some link there"
   ]
  },
  {
   "cell_type": "code",
   "execution_count": 2,
   "metadata": {},
   "outputs": [
    {
     "data": {
      "text/plain": [
       "{'Mumbai': 301.15,\n",
       " 'Delhi': 307.23,\n",
       " 'Bangalore': 302.47,\n",
       " 'Hyderabad': 308.47,\n",
       " 'Ahmedabad': 301.15,\n",
       " 'Chennai': 313.15,\n",
       " 'Kolkata': 308.15,\n",
       " 'Surat': 303.15,\n",
       " 'Pune': 301.761,\n",
       " 'Jaipur': 300.15}"
      ]
     },
     "execution_count": 2,
     "metadata": {},
     "output_type": "execute_result"
    }
   ],
   "source": [
    "cities=[\"Mumbai\",\"Delhi\",\"Bangalore\",\"Hyderabad\",\"Ahmedabad\",\"Chennai\",\"Kolkata\",\"Surat\",\"Pune\",\"Jaipur\"]\n",
    "#city=input(\"Enter the name of city\")\n",
    "Dict={}\n",
    "for city in cities:\n",
    "    gh=rs.get(\"http://api.openweathermap.org/data/2.5/weather?q=\"+city+\"&APPID=d0483e147fd81229fc4a3162fbfb7e07\").content\n",
    "    data=json.loads(gh)\n",
    "    Dict[city]=data[\"main\"][\"temp\"]       # take the temperature of the city on today   \n",
    "    #print(data) it will print all the data of every city\n",
    "Dict    "
   ]
  },
  {
   "cell_type": "markdown",
   "metadata": {},
   "source": [
    "## Find the name of the hottest city & its temprature from the above given cities"
   ]
  },
  {
   "cell_type": "code",
   "execution_count": 3,
   "metadata": {},
   "outputs": [
    {
     "name": "stdout",
     "output_type": "stream",
     "text": [
      "The city which has max temp is  Chennai : 313.15\n"
     ]
    }
   ],
   "source": [
    "city=''\n",
    "temp=0\n",
    "for c,v in Dict.items():\n",
    "    if temp < v:   \n",
    "        temp=v\n",
    "        city=c\n",
    "print(\"The city which has max temp is \",city,\":\",temp)        "
   ]
  },
  {
   "cell_type": "code",
   "execution_count": 4,
   "metadata": {},
   "outputs": [
    {
     "data": {
      "text/plain": [
       "dict_keys(['coord', 'weather', 'base', 'main', 'visibility', 'wind', 'clouds', 'dt', 'sys', 'timezone', 'id', 'name', 'cod'])"
      ]
     },
     "execution_count": 4,
     "metadata": {},
     "output_type": "execute_result"
    }
   ],
   "source": [
    "# API gives following data regarding one city\n",
    "data.keys()"
   ]
  },
  {
   "cell_type": "code",
   "execution_count": 5,
   "metadata": {},
   "outputs": [
    {
     "data": {
      "text/plain": [
       "300.15"
      ]
     },
     "execution_count": 5,
     "metadata": {},
     "output_type": "execute_result"
    }
   ],
   "source": [
    "# it gives tempature\n",
    "data[\"main\"][\"temp\"]"
   ]
  },
  {
   "cell_type": "code",
   "execution_count": null,
   "metadata": {},
   "outputs": [],
   "source": []
  }
 ],
 "metadata": {
  "kernelspec": {
   "display_name": "Python 3",
   "language": "python",
   "name": "python3"
  },
  "language_info": {
   "codemirror_mode": {
    "name": "ipython",
    "version": 3
   },
   "file_extension": ".py",
   "mimetype": "text/x-python",
   "name": "python",
   "nbconvert_exporter": "python",
   "pygments_lexer": "ipython3",
   "version": "3.7.3"
  }
 },
 "nbformat": 4,
 "nbformat_minor": 2
}
