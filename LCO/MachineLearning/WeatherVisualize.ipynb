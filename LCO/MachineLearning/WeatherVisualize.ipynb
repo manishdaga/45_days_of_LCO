{
 "cells": [
  {
   "cell_type": "code",
   "execution_count": 1,
   "metadata": {},
   "outputs": [],
   "source": [
    "import requests\n",
    "import json\n",
    "temp=[]\n",
    "city=[]\n",
    "weather=[]\n",
    "k=0"
   ]
  },
  {
   "cell_type": "code",
   "execution_count": 2,
   "metadata": {},
   "outputs": [],
   "source": [
    "caps=['Hyderabad',\n",
    " 'Patna',\n",
    " 'Agartala',\n",
    " 'Kohima',\n",
    " 'Chandigarh',\n",
    " 'Ranchi',\n",
    " 'Thiruvananthapuram',\n",
    " 'Mumbai',\n",
    " 'Bhubaneswar',\n",
    " 'Chandigarh',\n",
    " 'Panaji',\n",
    " 'Gandhinagar',\n",
    " 'Dispur',\n",
    " 'Amaravati',\n",
    " 'Dehradun',\n",
    " 'Shimla',\n",
    " 'Bhopal',\n",
    " 'Jaipur',\n",
    " 'Aizawl',\n",
    " 'Srinagar',\n",
    " 'Kolkata',\n",
    " 'Raipur',\n",
    " 'Chennai',\n",
    " 'Lucknow',\n",
    " 'Gangtok',\n",
    " 'Itanagar',\n",
    " 'Bangalore',\n",
    " 'Shillong',\n",
    " 'Imphal']\n"
   ]
  },
  {
   "cell_type": "code",
   "execution_count": 3,
   "metadata": {},
   "outputs": [
    {
     "name": "stdout",
     "output_type": "stream",
     "text": [
      "<class 'str'>\n",
      "1\n",
      "City Name: Hyderabad\n",
      "Temperature: 307.95\n",
      "Weather: Clouds\n",
      "<class 'str'>\n",
      "2\n",
      "City Name: Patna\n",
      "Temperature: 310.15\n",
      "Weather: Haze\n",
      "<class 'str'>\n",
      "3\n",
      "City Name: Agartala\n",
      "Temperature: 308.15\n",
      "Weather: Clouds\n",
      "<class 'str'>\n",
      "4\n",
      "City Name: Kohima\n",
      "Temperature: 305.15\n",
      "Weather: Haze\n",
      "<class 'str'>\n",
      "5\n",
      "City Name: Chandigarh\n",
      "Temperature: 300.19\n",
      "Weather: Haze\n",
      "<class 'str'>\n",
      "6\n",
      "City Name: Ranchi\n",
      "Temperature: 309.15\n",
      "Weather: Clouds\n",
      "<class 'str'>\n",
      "7\n",
      "City Name: Thiruvananthapuram\n",
      "Temperature: 303.15\n",
      "Weather: Haze\n",
      "<class 'str'>\n",
      "8\n",
      "City Name: Mumbai\n",
      "Temperature: 301.65\n",
      "Weather: Drizzle\n",
      "<class 'str'>\n",
      "9\n",
      "City Name: Bhubaneswar\n",
      "Temperature: 309.15\n",
      "Weather: Haze\n",
      "<class 'str'>\n",
      "10\n",
      "City Name: Chandigarh\n",
      "Temperature: 300.19\n",
      "Weather: Haze\n",
      "<class 'str'>\n",
      "11\n",
      "City Name: Panaji\n",
      "Temperature: 303.15\n",
      "Weather: Clouds\n",
      "<class 'str'>\n",
      "12\n",
      "City Name: Gandhinagar\n",
      "Temperature: 301.15\n",
      "Weather: Haze\n",
      "<class 'str'>\n",
      "13\n",
      "City Name: Dispur\n",
      "Temperature: 305.15\n",
      "Weather: Mist\n",
      "<class 'str'>\n",
      "14\n",
      "City Name: Amaravati\n",
      "Temperature: 312.15\n",
      "Weather: Clouds\n",
      "<class 'str'>\n",
      "15\n",
      "City Name: Dehradun\n",
      "Temperature: 301.15\n",
      "Weather: Clouds\n",
      "<class 'str'>\n",
      "16\n",
      "City Name: Shimla\n",
      "Temperature: 301.24\n",
      "Weather: Haze\n",
      "<class 'str'>\n",
      "17\n",
      "City Name: Bhopal\n",
      "Temperature: 307.15\n",
      "Weather: Clouds\n",
      "<class 'str'>\n",
      "18\n",
      "City Name: Jaipur\n",
      "Temperature: 298.15\n",
      "Weather: Haze\n",
      "<class 'str'>\n",
      "19\n",
      "City Name: Aizawl\n",
      "Temperature: 305.15\n",
      "Weather: Haze\n",
      "<class 'str'>\n",
      "20\n",
      "City Name: Srinagar\n",
      "Temperature: 291.461\n",
      "Weather: Rain\n",
      "<class 'str'>\n",
      "21\n",
      "City Name: Kolkata\n",
      "Temperature: 308.15\n",
      "Weather: Haze\n",
      "<class 'str'>\n",
      "22\n",
      "City Name: Raipur\n",
      "Temperature: 311.15\n",
      "Weather: Clouds\n",
      "<class 'str'>\n",
      "23\n",
      "City Name: Chennai\n",
      "Temperature: 313.15\n",
      "Weather: Clouds\n",
      "<class 'str'>\n",
      "24\n",
      "City Name: Lucknow\n",
      "Temperature: 309.15\n",
      "Weather: Haze\n",
      "<class 'str'>\n",
      "25\n",
      "City Name: Gangtok\n",
      "Temperature: 293.661\n",
      "Weather: Rain\n",
      "<class 'str'>\n",
      "26\n",
      "City Name: Itanagar\n",
      "Temperature: 304.15\n",
      "Weather: Mist\n",
      "<class 'str'>\n",
      "27\n",
      "City Name: Bangalore\n",
      "Temperature: 302.51\n",
      "Weather: Clouds\n",
      "<class 'str'>\n",
      "28\n",
      "City Name: Shillong\n",
      "Temperature: 305.15\n",
      "Weather: Mist\n",
      "<class 'str'>\n",
      "29\n",
      "City Name: Imphal\n",
      "Temperature: 305.15\n",
      "Weather: Haze\n"
     ]
    }
   ],
   "source": [
    "for i in caps:\n",
    "    z=requests.get('http://api.openweathermap.org/data/2.5/weather?q='+i+'&APPID=d0483e147fd81229fc4a3162fbfb7e07')\n",
    "    dic=json.loads(z.content.decode())\n",
    "    print(type(z.content.decode()))\n",
    "    if dic['cod']== 200:\n",
    "        k+=1\n",
    "        print(k)\n",
    "        print('City Name:' , dic['name'])\n",
    "        print('Temperature:' ,dic['main']['temp'])\n",
    "        print('Weather:', dic['weather'][0]['main'])\n",
    "        temp.append(dic['main']['temp'])\n",
    "        city.append(dic['name'])\n",
    "        weather.append(dic['weather'][0]['main'])\n",
    "\n",
    "    else:\n",
    "        print(i,'Spelling is Incorrect')\n",
    "    "
   ]
  },
  {
   "cell_type": "code",
   "execution_count": 4,
   "metadata": {},
   "outputs": [
    {
     "data": {
      "text/html": [
       "<div>\n",
       "<style scoped>\n",
       "    .dataframe tbody tr th:only-of-type {\n",
       "        vertical-align: middle;\n",
       "    }\n",
       "\n",
       "    .dataframe tbody tr th {\n",
       "        vertical-align: top;\n",
       "    }\n",
       "\n",
       "    .dataframe thead th {\n",
       "        text-align: right;\n",
       "    }\n",
       "</style>\n",
       "<table border=\"1\" class=\"dataframe\">\n",
       "  <thead>\n",
       "    <tr style=\"text-align: right;\">\n",
       "      <th></th>\n",
       "      <th>city</th>\n",
       "      <th>temp</th>\n",
       "      <th>weather</th>\n",
       "    </tr>\n",
       "  </thead>\n",
       "  <tbody>\n",
       "    <tr>\n",
       "      <th>0</th>\n",
       "      <td>Hyderabad</td>\n",
       "      <td>307.950</td>\n",
       "      <td>Clouds</td>\n",
       "    </tr>\n",
       "    <tr>\n",
       "      <th>1</th>\n",
       "      <td>Patna</td>\n",
       "      <td>310.150</td>\n",
       "      <td>Haze</td>\n",
       "    </tr>\n",
       "    <tr>\n",
       "      <th>2</th>\n",
       "      <td>Agartala</td>\n",
       "      <td>308.150</td>\n",
       "      <td>Clouds</td>\n",
       "    </tr>\n",
       "    <tr>\n",
       "      <th>3</th>\n",
       "      <td>Kohima</td>\n",
       "      <td>305.150</td>\n",
       "      <td>Haze</td>\n",
       "    </tr>\n",
       "    <tr>\n",
       "      <th>4</th>\n",
       "      <td>Chandigarh</td>\n",
       "      <td>300.190</td>\n",
       "      <td>Haze</td>\n",
       "    </tr>\n",
       "    <tr>\n",
       "      <th>5</th>\n",
       "      <td>Ranchi</td>\n",
       "      <td>309.150</td>\n",
       "      <td>Clouds</td>\n",
       "    </tr>\n",
       "    <tr>\n",
       "      <th>6</th>\n",
       "      <td>Thiruvananthapuram</td>\n",
       "      <td>303.150</td>\n",
       "      <td>Haze</td>\n",
       "    </tr>\n",
       "    <tr>\n",
       "      <th>7</th>\n",
       "      <td>Mumbai</td>\n",
       "      <td>301.650</td>\n",
       "      <td>Drizzle</td>\n",
       "    </tr>\n",
       "    <tr>\n",
       "      <th>8</th>\n",
       "      <td>Bhubaneswar</td>\n",
       "      <td>309.150</td>\n",
       "      <td>Haze</td>\n",
       "    </tr>\n",
       "    <tr>\n",
       "      <th>9</th>\n",
       "      <td>Chandigarh</td>\n",
       "      <td>300.190</td>\n",
       "      <td>Haze</td>\n",
       "    </tr>\n",
       "    <tr>\n",
       "      <th>10</th>\n",
       "      <td>Panaji</td>\n",
       "      <td>303.150</td>\n",
       "      <td>Clouds</td>\n",
       "    </tr>\n",
       "    <tr>\n",
       "      <th>11</th>\n",
       "      <td>Gandhinagar</td>\n",
       "      <td>301.150</td>\n",
       "      <td>Haze</td>\n",
       "    </tr>\n",
       "    <tr>\n",
       "      <th>12</th>\n",
       "      <td>Dispur</td>\n",
       "      <td>305.150</td>\n",
       "      <td>Mist</td>\n",
       "    </tr>\n",
       "    <tr>\n",
       "      <th>13</th>\n",
       "      <td>Amaravati</td>\n",
       "      <td>312.150</td>\n",
       "      <td>Clouds</td>\n",
       "    </tr>\n",
       "    <tr>\n",
       "      <th>14</th>\n",
       "      <td>Dehradun</td>\n",
       "      <td>301.150</td>\n",
       "      <td>Clouds</td>\n",
       "    </tr>\n",
       "    <tr>\n",
       "      <th>15</th>\n",
       "      <td>Shimla</td>\n",
       "      <td>301.240</td>\n",
       "      <td>Haze</td>\n",
       "    </tr>\n",
       "    <tr>\n",
       "      <th>16</th>\n",
       "      <td>Bhopal</td>\n",
       "      <td>307.150</td>\n",
       "      <td>Clouds</td>\n",
       "    </tr>\n",
       "    <tr>\n",
       "      <th>17</th>\n",
       "      <td>Jaipur</td>\n",
       "      <td>298.150</td>\n",
       "      <td>Haze</td>\n",
       "    </tr>\n",
       "    <tr>\n",
       "      <th>18</th>\n",
       "      <td>Aizawl</td>\n",
       "      <td>305.150</td>\n",
       "      <td>Haze</td>\n",
       "    </tr>\n",
       "    <tr>\n",
       "      <th>19</th>\n",
       "      <td>Srinagar</td>\n",
       "      <td>291.461</td>\n",
       "      <td>Rain</td>\n",
       "    </tr>\n",
       "    <tr>\n",
       "      <th>20</th>\n",
       "      <td>Kolkata</td>\n",
       "      <td>308.150</td>\n",
       "      <td>Haze</td>\n",
       "    </tr>\n",
       "    <tr>\n",
       "      <th>21</th>\n",
       "      <td>Raipur</td>\n",
       "      <td>311.150</td>\n",
       "      <td>Clouds</td>\n",
       "    </tr>\n",
       "    <tr>\n",
       "      <th>22</th>\n",
       "      <td>Chennai</td>\n",
       "      <td>313.150</td>\n",
       "      <td>Clouds</td>\n",
       "    </tr>\n",
       "    <tr>\n",
       "      <th>23</th>\n",
       "      <td>Lucknow</td>\n",
       "      <td>309.150</td>\n",
       "      <td>Haze</td>\n",
       "    </tr>\n",
       "    <tr>\n",
       "      <th>24</th>\n",
       "      <td>Gangtok</td>\n",
       "      <td>293.661</td>\n",
       "      <td>Rain</td>\n",
       "    </tr>\n",
       "    <tr>\n",
       "      <th>25</th>\n",
       "      <td>Itanagar</td>\n",
       "      <td>304.150</td>\n",
       "      <td>Mist</td>\n",
       "    </tr>\n",
       "    <tr>\n",
       "      <th>26</th>\n",
       "      <td>Bangalore</td>\n",
       "      <td>302.510</td>\n",
       "      <td>Clouds</td>\n",
       "    </tr>\n",
       "    <tr>\n",
       "      <th>27</th>\n",
       "      <td>Shillong</td>\n",
       "      <td>305.150</td>\n",
       "      <td>Mist</td>\n",
       "    </tr>\n",
       "    <tr>\n",
       "      <th>28</th>\n",
       "      <td>Imphal</td>\n",
       "      <td>305.150</td>\n",
       "      <td>Haze</td>\n",
       "    </tr>\n",
       "  </tbody>\n",
       "</table>\n",
       "</div>"
      ],
      "text/plain": [
       "                  city     temp  weather\n",
       "0            Hyderabad  307.950   Clouds\n",
       "1                Patna  310.150     Haze\n",
       "2             Agartala  308.150   Clouds\n",
       "3               Kohima  305.150     Haze\n",
       "4           Chandigarh  300.190     Haze\n",
       "5               Ranchi  309.150   Clouds\n",
       "6   Thiruvananthapuram  303.150     Haze\n",
       "7               Mumbai  301.650  Drizzle\n",
       "8          Bhubaneswar  309.150     Haze\n",
       "9           Chandigarh  300.190     Haze\n",
       "10              Panaji  303.150   Clouds\n",
       "11         Gandhinagar  301.150     Haze\n",
       "12              Dispur  305.150     Mist\n",
       "13           Amaravati  312.150   Clouds\n",
       "14            Dehradun  301.150   Clouds\n",
       "15              Shimla  301.240     Haze\n",
       "16              Bhopal  307.150   Clouds\n",
       "17              Jaipur  298.150     Haze\n",
       "18              Aizawl  305.150     Haze\n",
       "19            Srinagar  291.461     Rain\n",
       "20             Kolkata  308.150     Haze\n",
       "21              Raipur  311.150   Clouds\n",
       "22             Chennai  313.150   Clouds\n",
       "23             Lucknow  309.150     Haze\n",
       "24             Gangtok  293.661     Rain\n",
       "25            Itanagar  304.150     Mist\n",
       "26           Bangalore  302.510   Clouds\n",
       "27            Shillong  305.150     Mist\n",
       "28              Imphal  305.150     Haze"
      ]
     },
     "execution_count": 4,
     "metadata": {},
     "output_type": "execute_result"
    }
   ],
   "source": [
    "import pandas as pd\n",
    "dt = pd.DataFrame({\"city\":city,\"temp\":temp,\"weather\":weather})\n",
    "dt"
   ]
  },
  {
   "cell_type": "code",
   "execution_count": 5,
   "metadata": {},
   "outputs": [
    {
     "data": {
      "text/plain": [
       "array(['Clouds', 'Haze', 'Drizzle', 'Mist', 'Rain'], dtype=object)"
      ]
     },
     "execution_count": 5,
     "metadata": {},
     "output_type": "execute_result"
    }
   ],
   "source": [
    "dt[\"weather\"].unique()    # dt.weather.unique()\n",
    "    "
   ]
  },
  {
   "cell_type": "code",
   "execution_count": 6,
   "metadata": {},
   "outputs": [
    {
     "name": "stdout",
     "output_type": "stream",
     "text": [
      "The history saving thread hit an unexpected error (OperationalError('database is locked')).History will not be written to the database.\n"
     ]
    }
   ],
   "source": [
    "wea=[]\n",
    "for w in dt.weather.unique():\n",
    "    wea.append(dt[dt.weather==w])\n"
   ]
  },
  {
   "cell_type": "code",
   "execution_count": 7,
   "metadata": {},
   "outputs": [
    {
     "data": {
      "text/html": [
       "<div>\n",
       "<style scoped>\n",
       "    .dataframe tbody tr th:only-of-type {\n",
       "        vertical-align: middle;\n",
       "    }\n",
       "\n",
       "    .dataframe tbody tr th {\n",
       "        vertical-align: top;\n",
       "    }\n",
       "\n",
       "    .dataframe thead th {\n",
       "        text-align: right;\n",
       "    }\n",
       "</style>\n",
       "<table border=\"1\" class=\"dataframe\">\n",
       "  <thead>\n",
       "    <tr style=\"text-align: right;\">\n",
       "      <th></th>\n",
       "      <th>city</th>\n",
       "      <th>temp</th>\n",
       "      <th>weather</th>\n",
       "    </tr>\n",
       "  </thead>\n",
       "  <tbody>\n",
       "    <tr>\n",
       "      <th>12</th>\n",
       "      <td>Dispur</td>\n",
       "      <td>305.15</td>\n",
       "      <td>Mist</td>\n",
       "    </tr>\n",
       "    <tr>\n",
       "      <th>25</th>\n",
       "      <td>Itanagar</td>\n",
       "      <td>304.15</td>\n",
       "      <td>Mist</td>\n",
       "    </tr>\n",
       "    <tr>\n",
       "      <th>27</th>\n",
       "      <td>Shillong</td>\n",
       "      <td>305.15</td>\n",
       "      <td>Mist</td>\n",
       "    </tr>\n",
       "  </tbody>\n",
       "</table>\n",
       "</div>"
      ],
      "text/plain": [
       "        city    temp weather\n",
       "12    Dispur  305.15    Mist\n",
       "25  Itanagar  304.15    Mist\n",
       "27  Shillong  305.15    Mist"
      ]
     },
     "execution_count": 7,
     "metadata": {},
     "output_type": "execute_result"
    }
   ],
   "source": [
    "wea[3]"
   ]
  },
  {
   "cell_type": "code",
   "execution_count": 8,
   "metadata": {},
   "outputs": [],
   "source": [
    "import matplotlib.pyplot as plt"
   ]
  },
  {
   "cell_type": "code",
   "execution_count": 9,
   "metadata": {},
   "outputs": [
    {
     "data": {
      "text/plain": [
       "(array([ 0.,  2.,  4.,  6.,  8., 10., 12., 14.]),\n",
       " <a list of 8 Text yticklabel objects>)"
      ]
     },
     "execution_count": 9,
     "metadata": {},
     "output_type": "execute_result"
    },
    {
     "data": {
      "image/png": "[encoded data removed]",
      "text/plain": [
       "<Figure size 432x288 with 1 Axes>"
      ]
     },
     "metadata": {
      "needs_background": "light"
     },
     "output_type": "display_data"
    }
   ],
   "source": [
    "plt.hist(weather,color='skyblue')\n",
    "plt.title(\"Weather COunt\")\n",
    "plt.xlabel(\"Weather Type\")\n",
    "plt.ylabel(\"Cities\")\n",
    "plt.xticks(rotation=45)    # it will rotate the values on x axis with a certain angle \n",
    "plt.yticks(rotation=45)"
   ]
  },
  {
   "cell_type": "code",
   "execution_count": 10,
   "metadata": {},
   "outputs": [
    {
     "data": {
      "text/plain": [
       "Haze       13\n",
       "Clouds     10\n",
       "Mist        3\n",
       "Rain        2\n",
       "Drizzle     1\n",
       "Name: weather, dtype: int64"
      ]
     },
     "execution_count": 10,
     "metadata": {},
     "output_type": "execute_result"
    }
   ],
   "source": [
    "dt.weather.value_counts()"
   ]
  },
  {
   "cell_type": "code",
   "execution_count": 11,
   "metadata": {},
   "outputs": [
    {
     "data": {
      "text/plain": [
       "Index(['Haze', 'Clouds', 'Mist', 'Rain', 'Drizzle'], dtype='object')"
      ]
     },
     "execution_count": 11,
     "metadata": {},
     "output_type": "execute_result"
    }
   ],
   "source": [
    "dt.weather.value_counts().index"
   ]
  },
  {
   "cell_type": "code",
   "execution_count": 12,
   "metadata": {},
   "outputs": [
    {
     "data": {
      "text/plain": [
       "Text(0.5, 1.0, 'pie plot')"
      ]
     },
     "execution_count": 12,
     "metadata": {},
     "output_type": "execute_result"
    },
    {
     "data": {
      "image/png": "[encoded data removed]",
      "text/plain": [
       "<Figure size 432x288 with 1 Axes>"
      ]
     },
     "metadata": {},
     "output_type": "display_data"
    }
   ],
   "source": [
    "plt.pie(dt.weather.value_counts(),labels=dt.weather.value_counts().index,autopct='%1.2f%%')\n",
    "plt.title(\"pie plot\")"
   ]
  },
  {
   "cell_type": "code",
   "execution_count": 13,
   "metadata": {},
   "outputs": [
    {
     "data": {
      "text/plain": [
       "(array([290., 295., 300., 305., 310., 315.]),\n",
       " <a list of 6 Text yticklabel objects>)"
      ]
     },
     "execution_count": 13,
     "metadata": {},
     "output_type": "execute_result"
    },
    {
     "data": {
      "image/png": "[encoded data removed]",
      "text/plain": [
       "<Figure size 432x288 with 1 Axes>"
      ]
     },
     "metadata": {
      "needs_background": "light"
     },
     "output_type": "display_data"
    }
   ],
   "source": [
    "plt.scatter(caps,temp,marker='*',c='green')\n",
    "plt.xticks(rotation=90)\n",
    "plt.yticks(rotation=90)"
   ]
  },
  {
   "cell_type": "code",
   "execution_count": null,
   "metadata": {},
   "outputs": [],
   "source": []
  },
  {
   "cell_type": "code",
   "execution_count": 14,
   "metadata": {},
   "outputs": [],
   "source": [
    "Email_IDs = {\"Nitesh\" :\"njnitesh82@gmail.com\" , \n",
    "             \"Manish\" :\"manishmanishdaga@gmail.com\" , \n",
    "             \"Nancy\"  : \"1729140@kiit.ac.in\" ,\n",
    "             \"Harshit\":\"harshitchaudhary243@gmail.com\" }"
   ]
  },
  {
   "cell_type": "code",
   "execution_count": 15,
   "metadata": {},
   "outputs": [
    {
     "data": {
      "text/plain": [
       "{'Nitesh': 'njnitesh82@gmail.com',\n",
       " 'Manish': 'manishmanishdaga@gmail.com',\n",
       " 'Nancy': '1729140@kiit.ac.in',\n",
       " 'Harshit': 'harshitchaudhary243@gmail.com'}"
      ]
     },
     "execution_count": 15,
     "metadata": {},
     "output_type": "execute_result"
    }
   ],
   "source": [
    "Email_IDs"
   ]
  },
  {
   "cell_type": "code",
   "execution_count": 16,
   "metadata": {},
   "outputs": [
    {
     "name": "stdout",
     "output_type": "stream",
     "text": [
      "njnitesh82@gmail.com\n"
     ]
    }
   ],
   "source": [
    "query=\"send email to Nitesh\"\n",
    "\n",
    "if \"Nitesh\" in query:\n",
    "    print(Email_IDs[\"Nitesh\"])"
   ]
  },
  {
   "cell_type": "code",
   "execution_count": 17,
   "metadata": {},
   "outputs": [
    {
     "data": {
      "text/plain": [
       "'nitesh'"
      ]
     },
     "execution_count": 17,
     "metadata": {},
     "output_type": "execute_result"
    }
   ],
   "source": [
    "query.split()[-1].lower()"
   ]
  },
  {
   "cell_type": "code",
   "execution_count": null,
   "metadata": {},
   "outputs": [],
   "source": []
  }
 ],
 "metadata": {
  "kernelspec": {
   "display_name": "Python 3",
   "language": "python",
   "name": "python3"
  },
  "language_info": {
   "codemirror_mode": {
    "name": "ipython",
    "version": 3
   },
   "file_extension": ".py",
   "mimetype": "text/x-python",
   "name": "python",
   "nbconvert_exporter": "python",
   "pygments_lexer": "ipython3",
   "version": "3.7.3"
  }
 },
 "nbformat": 4,
 "nbformat_minor": 2
}
