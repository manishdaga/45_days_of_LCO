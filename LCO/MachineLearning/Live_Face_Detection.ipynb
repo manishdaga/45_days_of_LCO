{
 "cells": [
  {
   "cell_type": "code",
   "execution_count": 1,
   "metadata": {},
   "outputs": [],
   "source": [
    "import cv2 as cv\n",
    "import numpy as np"
   ]
  },
  {
   "cell_type": "code",
   "execution_count": 2,
   "metadata": {},
   "outputs": [],
   "source": [
    "# Start the camera\n",
    "cam = cv.VideoCapture(0)  "
   ]
  },
  {
   "cell_type": "code",
   "execution_count": 3,
   "metadata": {},
   "outputs": [],
   "source": [
    "# detects the live faces\n",
    "detector=cv.CascadeClassifier(\"haar_frontal.xml\")"
   ]
  },
  {
   "cell_type": "code",
   "execution_count": null,
   "metadata": {},
   "outputs": [],
   "source": [
    "while True: \n",
    "    _,frame=cam.read()   # read the image from the camera\n",
    "\n",
    "    #Convert BGR TO GRAY color format\n",
    "    gray=cv.cvtColor(frame,cv.COLOR_BGR2GRAY)  \n",
    "    faces = detector.detectMultiScale(gray,1.3,5)\n",
    "    # Draw the rectangle on the detected faces\n",
    "    for face in faces:\n",
    "        x,y,w,h=face\n",
    "        cv.rectangle(frame,(x,y),(x+w,y+h),[255,255,255],2) \n",
    "    cv.imshow(\"Live_Face_Dection\",frame)\n",
    "\n",
    "    #For the closing of the camera if we press 'q' then we the window is closed\n",
    "    key=cv.waitKey(5)\n",
    "    if key & 0xff == ord('q'):\n",
    "        cv.destroyAllWindows()  # It will destroy the window which is opened \n",
    "        break   #Terminate the loop\n",
    "\n",
    "#Releasing the camera or close the camera\n",
    "cam.release()\n"
   ]
  },
  {
   "cell_type": "code",
   "execution_count": null,
   "metadata": {},
   "outputs": [],
   "source": []
  }
 ],
 "metadata": {
  "kernelspec": {
   "display_name": "Python 3",
   "language": "python",
   "name": "python3"
  },
  "language_info": {
   "codemirror_mode": {
    "name": "ipython",
    "version": 3
   },
   "file_extension": ".py",
   "mimetype": "text/x-python",
   "name": "python",
   "nbconvert_exporter": "python",
   "pygments_lexer": "ipython3",
   "version": "3.7.3"
  }
 },
 "nbformat": 4,
 "nbformat_minor": 2
}
