{
 "cells": [
  {
   "cell_type": "raw",
   "metadata": {},
   "source": [
    "P1\n",
    "Character Picture Grid\n",
    "Say you have a list of lists where each value in the inner lists is a one-character\n",
    "string, like this:\n",
    "    grid =  [['.','.','.','.','.','.'],\n",
    "             ['.','0','0','.','.','.'],\n",
    "             ['0','0','0','0','.','.'],\n",
    "             ['0','0','0','0','0','.'],\n",
    "             ['.','0','0','0','0','0'],\n",
    "             ['0','0','0','0','0','.'],\n",
    "             ['0','0','0','0','.','.'],\n",
    "             ['.','0','0','.','.','.'],\n",
    "             ['.','.','.','.','.','.']]\n",
    "think of grid[x][y] as being the character at the x- and\n",
    "y-­coordinates of a “picture” drawn with text characters. The (0, 0) origin\n",
    "will be in the upper-left corner, the x-coordinates increase going right,\n",
    "and the y-coordinates increase going down.\n",
    "Copy the previous grid value, and write code that uses it to print the image.\n",
    "..OO.OO..\n",
    ".OOOOOOO.\n",
    ".OOOOOOO.\n",
    "..OOOOO..\n",
    "...OOO...\n",
    "....O...."
   ]
  },
  {
   "cell_type": "raw",
   "metadata": {},
   "source": [
    "P2\n",
    "weekdays = [‘sun’,’mon’,’tue’,’wed’,’thu’,’fri’,’sat’]\n",
    "convert this list into string"
   ]
  },
  {
   "cell_type": "raw",
   "metadata": {},
   "source": [
    "P3\n",
    "write a program to find the average of numbers in a list in Python?"
   ]
  },
  {
   "cell_type": "raw",
   "metadata": {},
   "source": [
    "P4\n",
    "assuming that we have some email addresses in the \"username@companyname.com\" format, please write program to print the user name of a given email address. Both user names and company names are composed of letters only.\n",
    "\n",
    "Example:\n",
    "If the following email address is given as input to the program:\n",
    "\n",
    "john@google.com\n",
    "\n",
    "Then, the output of the program should be:\n",
    "\n",
    "john"
   ]
  },
  {
   "cell_type": "raw",
   "metadata": {},
   "source": [
    "P5\n",
    "Write a program to compute 1/2+2/3+3/4+...+n/n+1 with a given n input by console (n>0).\n",
    "\n",
    "Example:\n",
    "If the following n is given as input to the program:\n",
    "\n",
    "5\n",
    "\n",
    "Then, the output of the program should be:\n",
    "\n",
    "3.55"
   ]
  },
  {
   "cell_type": "raw",
   "metadata": {},
   "source": [
    "P6\n",
    "write a program using generator to print the even numbers between 0 and n in comma separated form while n is input by console.\n",
    "\n",
    "Example:\n",
    "If the following n is given as input to the program:\n",
    "\n",
    "10\n",
    "\n",
    "Then, the output of the program should be:\n",
    "\n",
    "0,2,4,6,8,10"
   ]
  },
  {
   "cell_type": "raw",
   "metadata": {},
   "source": [
    "P7\n",
    "Please write a program to generate all sentences where subject is in [\"I\", \"You\"] and verb is in [\"Play\", \"Love\"] and the object is in [\"Hockey\",\"Football\"].\n",
    "\n",
    "Output:\n",
    "I Play Hockey.\n",
    "I Play Football.\n",
    "I Love Hockey.\n",
    "I Love Football.\n",
    "You Play Hockey.\n",
    "You Play Football.\n",
    "You Love Hockey.\n",
    "You Love Football."
   ]
  },
  {
   "cell_type": "raw",
   "metadata": {},
   "source": [
    "P8\n",
    "please write a program generate a 3*5*8 3D array whose each element is 0 (3D Array)"
   ]
  },
  {
   "cell_type": "raw",
   "metadata": {},
   "source": [
    "P9\n",
    "Please write a program which accepts a string from console and print it in reverse order.\n",
    "\n",
    "Example:\n",
    "If the following string is given as input to the program:\n",
    "\n",
    "rise to vote sir\n",
    "\n",
    "Then, the output of the program should be\n",
    "\n",
    "sir vote to rise"
   ]
  },
  {
   "cell_type": "raw",
   "metadata": {},
   "source": [
    "P10\n",
    "Please write a program which prints all permutations of [1,2,3]"
   ]
  },
  {
   "cell_type": "raw",
   "metadata": {},
   "source": [
    "P11\n",
    "Write a Python program to calculate number of days between two dates.\n",
    "Sample dates : (2014, 7, 2), (2014, 7, 11)\n",
    "Expected output : 9 days "
   ]
  },
  {
   "cell_type": "raw",
   "metadata": {},
   "source": [
    "P12\n",
    "Write a Python program to compute the distance between the points (x1, y1) and (x2, y2)."
   ]
  },
  {
   "cell_type": "raw",
   "metadata": {},
   "source": [
    "P13\n",
    "Write a Python program to access a function inside a function. "
   ]
  },
  {
   "cell_type": "raw",
   "metadata": {},
   "source": [
    "P14\n",
    "Write a Python program to test whether two lines PQ and RS are parallel. The four points are P(x1, y1), Q(x2, y2), R(x3, y3), S(x4, y4)."
   ]
  },
  {
   "cell_type": "raw",
   "metadata": {},
   "source": [
    "P15\n",
    "Write a Python program to extend a list without append"
   ]
  },
  {
   "cell_type": "markdown",
   "metadata": {},
   "source": [
    "## Q-1 Solution\n"
   ]
  },
  {
   "cell_type": "code",
   "execution_count": 35,
   "metadata": {},
   "outputs": [
    {
     "name": "stdout",
     "output_type": "stream",
     "text": [
      "The image is as:- \n",
      "..00.00..\n",
      ".0000000.\n",
      ".0000000.\n",
      "..00000..\n",
      "...000...\n",
      "....0....\n"
     ]
    }
   ],
   "source": [
    "grid =  [['.','.','.','.','.','.'],\n",
    "         ['.','0','0','.','.','.'],\n",
    "         ['0','0','0','0','.','.'],\n",
    "         ['0','0','0','0','0','.'],\n",
    "         ['.','0','0','0','0','0'], \n",
    "         ['0','0','0','0','0','.'],\n",
    "         ['0','0','0','0','.','.'],\n",
    "         ['.','0','0','.','.','.'],\n",
    "         ['.','.','.','.','.','.']]\n",
    "print(\"The image is as:- \")\n",
    "print(grid[1][0]*2+grid[1][1]*2+grid[1][0]+grid[1][1]*2+grid[1][0]*2)\n",
    "print(grid[4][0]+grid[4][1]*7+grid[4][0])\n",
    "print(grid[4][0]+grid[4][1]*7+grid[4][0])\n",
    "print(grid[1][0]*2+grid[1][1]*5+grid[1][0]*2)\n",
    "print(grid[1][0]*3+grid[1][1]*3+grid[1][0]*3)\n",
    "print(grid[1][0]*4+grid[1][1]+grid[1][0]*4)"
   ]
  },
  {
   "cell_type": "markdown",
   "metadata": {},
   "source": [
    "## Q2- Solution"
   ]
  },
  {
   "cell_type": "code",
   "execution_count": 40,
   "metadata": {},
   "outputs": [
    {
     "name": "stdout",
     "output_type": "stream",
     "text": [
      "sunmontuewedthufrisat"
     ]
    }
   ],
   "source": [
    "weekdays=['sun','mon','tue','wed','thu','fri','sat']\n",
    "for i in weekdays:\n",
    "    print(i,end='')\n"
   ]
  },
  {
   "cell_type": "code",
   "execution_count": 42,
   "metadata": {},
   "outputs": [
    {
     "ename": "SyntaxError",
     "evalue": "invalid character in identifier (<ipython-input-42-6160fe4453eb>, line 1)",
     "output_type": "error",
     "traceback": [
      "\u001b[1;36m  File \u001b[1;32m\"<ipython-input-42-6160fe4453eb>\"\u001b[1;36m, line \u001b[1;32m1\u001b[0m\n\u001b[1;33m    weekdays = str([‘sun’,’mon’,’tue’,’wed’,’thu’,’fri’,’sat’])\u001b[0m\n\u001b[1;37m                        ^\u001b[0m\n\u001b[1;31mSyntaxError\u001b[0m\u001b[1;31m:\u001b[0m invalid character in identifier\n"
     ]
    }
   ],
   "source": [
    "weekdays = [‘sun’,’mon’,’tue’,’wed’,’thu’,’fri’,’sat’]"
   ]
  },
  {
   "cell_type": "markdown",
   "metadata": {},
   "source": [
    "## Q3-Solution"
   ]
  },
  {
   "cell_type": "code",
   "execution_count": 43,
   "metadata": {},
   "outputs": [
    {
     "name": "stdout",
     "output_type": "stream",
     "text": [
      "Average of no.s of list GL is  3.5\n"
     ]
    }
   ],
   "source": [
    "GL=[1,2,3,4,5,6]\n",
    "sum1=0\n",
    "for i in GL:\n",
    "    sum1=sum1+i\n",
    "avg=sum1/len(GL)\n",
    "print(\"Average of no.s of list GL is \",avg)"
   ]
  },
  {
   "cell_type": "markdown",
   "metadata": {},
   "source": [
    "## Q4- Solution"
   ]
  },
  {
   "cell_type": "code",
   "execution_count": 46,
   "metadata": {},
   "outputs": [
    {
     "name": "stdin",
     "output_type": "stream",
     "text": [
      "Enter email ID in username@companyname.com formate Tanmaya@gmail.com\n"
     ]
    },
    {
     "name": "stdout",
     "output_type": "stream",
     "text": [
      "User name is\n",
      "Tanmaya"
     ]
    }
   ],
   "source": [
    "email=input(\"Enter email ID in username@companyname.com formate\")\n",
    "print(\"User name is\")\n",
    "for i in email:\n",
    "    if i == '@':\n",
    "        break\n",
    "    else:\n",
    "        print(i,end='')"
   ]
  },
  {
   "cell_type": "markdown",
   "metadata": {},
   "source": [
    "## Q5- Solution"
   ]
  },
  {
   "cell_type": "code",
   "execution_count": 59,
   "metadata": {},
   "outputs": [
    {
     "name": "stdin",
     "output_type": "stream",
     "text": [
      "Enter the no. of terms 5\n"
     ]
    },
    {
     "name": "stdout",
     "output_type": "stream",
     "text": [
      "1 / 2  +  2 / 3  +  3 / 4  +  4 / 5  +  5 / 6  +  \n",
      "Sum of this series is  3.55\n"
     ]
    }
   ],
   "source": [
    "n=int(input(\"Enter the no. of terms\"))\n",
    "Sum=0\n",
    "for i in range(1,n+1):\n",
    "    Sum=i/(i+1)+Sum\n",
    "    print(i,\"/\",i+1,\" +  \",end='')\n",
    "print(\"\\nSum of this series is {: .2f}\".format(Sum))"
   ]
  },
  {
   "cell_type": "markdown",
   "metadata": {},
   "source": [
    "## Q6- Solution"
   ]
  },
  {
   "cell_type": "code",
   "execution_count": 63,
   "metadata": {},
   "outputs": [
    {
     "name": "stdin",
     "output_type": "stream",
     "text": [
      "Enter the range you want:  10\n"
     ]
    },
    {
     "name": "stdout",
     "output_type": "stream",
     "text": [
      "2\n",
      "4\n",
      "6\n",
      "8\n",
      "10\n"
     ]
    }
   ],
   "source": [
    "n=int(input(\"Enter the range you want: \"))\n",
    "def checkeven(n):\n",
    "    for i in range(1,n+1):\n",
    "        if i%2 == 0:\n",
    "            yield i\n",
    "        \n",
    "for i in checkeven(n):\n",
    "    print(i)\n",
    "        "
   ]
  },
  {
   "cell_type": "markdown",
   "metadata": {},
   "source": [
    "## Q7- Solution"
   ]
  },
  {
   "cell_type": "code",
   "execution_count": 3,
   "metadata": {},
   "outputs": [
    {
     "name": "stdout",
     "output_type": "stream",
     "text": [
      "I Play Hockey\n",
      "I Play Football\n",
      "I Love Hockey\n",
      "I Love Football\n",
      "You Play Hockey\n",
      "You Play Football\n",
      "You Love Hockey\n",
      "You Love Football\n",
      "Method 2\n"
     ]
    },
    {
     "data": {
      "text/plain": [
       "[('I', 'Play', 'Hockey'),\n",
       " ('I', 'Play', 'Football'),\n",
       " ('I', 'Play', 'Cricket'),\n",
       " ('I', 'Love', 'Hockey'),\n",
       " ('I', 'Love', 'Football'),\n",
       " ('I', 'Love', 'Cricket')]"
      ]
     },
     "execution_count": 3,
     "metadata": {},
     "output_type": "execute_result"
    }
   ],
   "source": [
    "sub=[\"I\", \"You\"]\n",
    "verb=[\"Play\", \"Love\"]\n",
    "Object=[\"Hockey\",\"Football\"]\n",
    "#Method 1\n",
    "for s in range(len(sub)):\n",
    "    for v in range(len(verb)):\n",
    "        for o in range(len(Object)):\n",
    "            print(sub[s]+\" \"+verb[v]+\" \"+Object[o])\n",
    "\n",
    "#Method 2\n",
    "from itertools import combinations,permutations\n",
    "print(\"Method 2\")\n",
    "fg=[\"I\",\"Play\",\"Love\",\"Hockey\",\"Football\",\"Cricket\"]\n",
    "list(combinations(fg,3))[1:7]"
   ]
  },
  {
   "cell_type": "markdown",
   "metadata": {},
   "source": [
    "## Q8- Solution"
   ]
  },
  {
   "cell_type": "code",
   "execution_count": 83,
   "metadata": {},
   "outputs": [
    {
     "name": "stdout",
     "output_type": "stream",
     "text": [
      "Method 1\n"
     ]
    },
    {
     "data": {
      "text/plain": [
       "[[[0, 0, 0], [0, 0, 0], [0, 0, 0], [0, 0, 0], [0, 0, 0]],\n",
       " [[0, 0, 0], [0, 0, 0], [0, 0, 0], [0, 0, 0], [0, 0, 0]],\n",
       " [[0, 0, 0], [0, 0, 0], [0, 0, 0], [0, 0, 0], [0, 0, 0]],\n",
       " [[0, 0, 0], [0, 0, 0], [0, 0, 0], [0, 0, 0], [0, 0, 0]],\n",
       " [[0, 0, 0], [0, 0, 0], [0, 0, 0], [0, 0, 0], [0, 0, 0]],\n",
       " [[0, 0, 0], [0, 0, 0], [0, 0, 0], [0, 0, 0], [0, 0, 0]],\n",
       " [[0, 0, 0], [0, 0, 0], [0, 0, 0], [0, 0, 0], [0, 0, 0]],\n",
       " [[0, 0, 0], [0, 0, 0], [0, 0, 0], [0, 0, 0], [0, 0, 0]]]"
      ]
     },
     "execution_count": 83,
     "metadata": {},
     "output_type": "execute_result"
    }
   ],
   "source": [
    "print(\"Method 1\")\n",
    "[[[0 for _ in range(3)] for _ in range(5)] for _ in range(8)]"
   ]
  },
  {
   "cell_type": "code",
   "execution_count": 9,
   "metadata": {},
   "outputs": [
    {
     "name": "stdout",
     "output_type": "stream",
     "text": [
      "[[[0, 0, 0, 0, 0, 0, 0, 0], [0, 0, 0, 0, 0, 0, 0, 0], [0, 0, 0, 0, 0, 0, 0, 0], [0, 0, 0, 0, 0, 0, 0, 0], [0, 0, 0, 0, 0, 0, 0, 0]], [[0, 0, 0, 0, 0, 0, 0, 0], [0, 0, 0, 0, 0, 0, 0, 0], [0, 0, 0, 0, 0, 0, 0, 0], [0, 0, 0, 0, 0, 0, 0, 0], [0, 0, 0, 0, 0, 0, 0, 0]], [[0, 0, 0, 0, 0, 0, 0, 0], [0, 0, 0, 0, 0, 0, 0, 0], [0, 0, 0, 0, 0, 0, 0, 0], [0, 0, 0, 0, 0, 0, 0, 0], [0, 0, 0, 0, 0, 0, 0, 0]]]\n",
      "Method 2\n"
     ]
    },
    {
     "data": {
      "text/plain": [
       "array([[[0., 0., 0., 0., 0., 0., 0., 0.],\n",
       "        [0., 0., 0., 0., 0., 0., 0., 0.],\n",
       "        [0., 0., 0., 0., 0., 0., 0., 0.],\n",
       "        [0., 0., 0., 0., 0., 0., 0., 0.],\n",
       "        [0., 0., 0., 0., 0., 0., 0., 0.]],\n",
       "\n",
       "       [[0., 0., 0., 0., 0., 0., 0., 0.],\n",
       "        [0., 0., 0., 0., 0., 0., 0., 0.],\n",
       "        [0., 0., 0., 0., 0., 0., 0., 0.],\n",
       "        [0., 0., 0., 0., 0., 0., 0., 0.],\n",
       "        [0., 0., 0., 0., 0., 0., 0., 0.]],\n",
       "\n",
       "       [[0., 0., 0., 0., 0., 0., 0., 0.],\n",
       "        [0., 0., 0., 0., 0., 0., 0., 0.],\n",
       "        [0., 0., 0., 0., 0., 0., 0., 0.],\n",
       "        [0., 0., 0., 0., 0., 0., 0., 0.],\n",
       "        [0., 0., 0., 0., 0., 0., 0., 0.]]])"
      ]
     },
     "execution_count": 9,
     "metadata": {},
     "output_type": "execute_result"
    }
   ],
   "source": [
    "d=[[[0]*8]*5]*3\n",
    "print(d)\n",
    "print(\"Method 2\")\n",
    "import numpy as np\n",
    "np.zeros((3,5,8))"
   ]
  },
  {
   "cell_type": "markdown",
   "metadata": {},
   "source": [
    "## Q9- Solution"
   ]
  },
  {
   "cell_type": "code",
   "execution_count": 4,
   "metadata": {},
   "outputs": [
    {
     "name": "stdin",
     "output_type": "stream",
     "text": [
      "Enter a string Hello how are you\n"
     ]
    },
    {
     "name": "stdout",
     "output_type": "stream",
     "text": [
      "you are how Hello "
     ]
    }
   ],
   "source": [
    "string=input(\"Enter a string\").split()\n",
    "revstr=string[::-1]\n",
    "for i in range(len(revstr)):\n",
    "    print(revstr[i]+\" \",end='')"
   ]
  },
  {
   "cell_type": "markdown",
   "metadata": {},
   "source": [
    "## Q10- Solution"
   ]
  },
  {
   "cell_type": "code",
   "execution_count": 8,
   "metadata": {},
   "outputs": [
    {
     "name": "stdout",
     "output_type": "stream",
     "text": [
      "{(3, 1, 2), (1, 3, 2), (3, 2, 1), (2, 3, 1), (1, 2, 3), (2, 1, 3)}\n"
     ]
    }
   ],
   "source": [
    "list=[1,2,3]\n",
    "import itertools\n",
    "print(set(itertools.permutations(list)))"
   ]
  },
  {
   "cell_type": "markdown",
   "metadata": {},
   "source": [
    "## Q11- Solution"
   ]
  },
  {
   "cell_type": "code",
   "execution_count": null,
   "metadata": {},
   "outputs": [],
   "source": [
    "from datetime import date\n",
    "\n",
    "year1=int(input(\"Enter the year from\"))\n",
    "month1=int(input(\"Enter the month no. from\"))\n",
    "day1=int(input(\"Enter the day no. from\"))\n",
    "\n",
    "year2=int(input(\"Enter the year to\"))\n",
    "month2=int(input(\"Enter the month no. to\"))\n",
    "day2=int(input(\"Enter the day no. to\"))\n",
    "\n",
    "f_date = date(year1, month1, day1)\n",
    "l_date = date(year2, month2, day2)\n",
    "delta = l_date -f_date\n",
    "\n",
    "print(\"There are \", delta.days,\" days from \",year1,\"/\",month1,\"/\",day1,\" to \",year2,\"/\",month2,\"/\",day2)\n",
    "\n",
    "    \n",
    "    "
   ]
  },
  {
   "cell_type": "markdown",
   "metadata": {},
   "source": [
    "## Q-12 Solution"
   ]
  },
  {
   "cell_type": "code",
   "execution_count": 23,
   "metadata": {},
   "outputs": [
    {
     "name": "stdin",
     "output_type": "stream",
     "text": [
      "Enter the coordinates of the point1 as x1 & y1:-  2 3\n",
      "Enter the coordinates of the point1 as x2 & y2:-  6 3\n"
     ]
    },
    {
     "name": "stdout",
     "output_type": "stream",
     "text": [
      "Distance between  2 3  and  6 3  is  4.00  units\n"
     ]
    }
   ],
   "source": [
    "coor1=input(\"Enter the coordinates of the point1 as x1 & y1:- \").split()\n",
    "coor2=input(\"Enter the coordinates of the point1 as x2 & y2:- \").split()\n",
    "\n",
    "dist=((int(coor2[0])-int(coor1[0]))**2+(int(coor2[1])-int(coor1[1]))**2)**0.5\n",
    "print(\"Distance between \",coor1[0],coor1[1],\" and \",coor2[0],coor2[1],\" is {: .2f}\".format(dist),\" units\")"
   ]
  },
  {
   "cell_type": "markdown",
   "metadata": {},
   "source": [
    "## Q13- Solution"
   ]
  },
  {
   "cell_type": "code",
   "execution_count": 29,
   "metadata": {},
   "outputs": [],
   "source": [
    "def hello():\n",
    "    def hi():\n",
    "        print(\"Hello World\")"
   ]
  },
  {
   "cell_type": "markdown",
   "metadata": {},
   "source": [
    "## Q14- Already Solution\n",
    "## Q15- Solution"
   ]
  },
  {
   "cell_type": "code",
   "execution_count": 31,
   "metadata": {},
   "outputs": [
    {
     "data": {
      "text/plain": [
       "[0, 1, 2, 3, 4, 5, 'Hello', 'World', 6, 7]"
      ]
     },
     "execution_count": 31,
     "metadata": {},
     "output_type": "execute_result"
    }
   ],
   "source": [
    "list=[0,1,2,3,4,\"Hello\",\"World\"]\n",
    "#Method 1\n",
    "list.insert(5,5)\n",
    "#Method 2\n",
    "list.extend([6,7])\n",
    "\n",
    "list"
   ]
  },
  {
   "cell_type": "code",
   "execution_count": null,
   "metadata": {},
   "outputs": [],
   "source": []
  }
 ],
 "metadata": {
  "kernelspec": {
   "display_name": "Python 3",
   "language": "python",
   "name": "python3"
  },
  "language_info": {
   "codemirror_mode": {
    "name": "ipython",
    "version": 3
   },
   "file_extension": ".py",
   "mimetype": "text/x-python",
   "name": "python",
   "nbconvert_exporter": "python",
   "pygments_lexer": "ipython3",
   "version": "3.7.3"
  }
 },
 "nbformat": 4,
 "nbformat_minor": 2
}
