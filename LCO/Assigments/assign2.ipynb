{
 "cells": [
  {
   "cell_type": "markdown",
   "metadata": {},
   "source": [
    "## Write a program to find line parllel or not?\n",
    "* test case you will two cordinate\n",
    "\n",
    "\n",
    "* note : use the concept of slop"
   ]
  },
  {
   "cell_type": "markdown",
   "metadata": {},
   "source": [
    "## Write a pogram to find armstrong number?\n",
    "</br>\n",
    "</br>\n",
    "\n",
    "## Write a program to find leap year?\n",
    "\n",
    "</br>\n",
    "</br>\n",
    "\n",
    "## Print 'LCO' using star pattern?\n",
    "\n",
    "</br>\n",
    "</br>\n",
    "\n",
    "## ge"
   ]
  },
  {
   "cell_type": "markdown",
   "metadata": {},
   "source": [
    "## Q1- Solution"
   ]
  },
  {
   "cell_type": "code",
   "execution_count": 1,
   "metadata": {},
   "outputs": [
    {
     "name": "stdout",
     "output_type": "stream",
     "text": [
      "Program to find wether the two lines are parallel or not \n",
      "Coordinates of line 1 as (x1,y1) & (x2,y2)\n"
     ]
    },
    {
     "name": "stdin",
     "output_type": "stream",
     "text": [
      "Enter the value x1 4\n",
      "Enter the value y1 3\n",
      "Enter the value x2 5\n",
      "Enter the value y2 4\n"
     ]
    },
    {
     "name": "stdout",
     "output_type": "stream",
     "text": [
      "Line1 Slope is:  1.0\n",
      "Coordinates of line 2 as (x3,y3) & (x4,y4)\n"
     ]
    },
    {
     "name": "stdin",
     "output_type": "stream",
     "text": [
      "Enter the value x3 6\n",
      "Enter the value y3 5\n",
      "Enter the value x4 4\n",
      "Enter the value y4 3\n"
     ]
    },
    {
     "name": "stdout",
     "output_type": "stream",
     "text": [
      "Line1 Slope is:  1.0\n",
      "Line 1 is parallel with Line 2 because both have same slope\n"
     ]
    }
   ],
   "source": [
    "print(\"Program to find wether the two lines are parallel or not \")\n",
    "#Coordinates of line1 & Slope\n",
    "print(\"Coordinates of line 1 as (x1,y1) & (x2,y2)\")\n",
    "x1=int(input(\"Enter the value x1\"))\n",
    "y1=int(input(\"Enter the value y1\"))\n",
    "x2=int(input(\"Enter the value x2\"))\n",
    "y2=int(input(\"Enter the value y2\"))\n",
    "slope1=(y2-y1) / (x2-x1)\n",
    "print(\"Line1 Slope is: \",slope1)\n",
    "\n",
    "#Coordinates of line2 & Slope\n",
    "print(\"Coordinates of line 2 as (x3,y3) & (x4,y4)\")\n",
    "x3=int(input(\"Enter the value x3\"))\n",
    "y3=int(input(\"Enter the value y3\"))\n",
    "x4=int(input(\"Enter the value x4\"))\n",
    "y4=int(input(\"Enter the value y4\"))\n",
    "slope2=(y4-y3) / (x4-x3)\n",
    "print(\"Line1 Slope is: \",slope2)\n",
    "\n",
    "#checking for a parallel line\n",
    "if slope1 == slope2 :\n",
    "    print(\"Line 1 is parallel with Line 2 because both have same slope\")\n",
    "elif (slope1*slope2) == -1:\n",
    "    print(\"Line 1 is perpendicular to Line 2 because slop1*slope2 = -1\")\n",
    "else:\n",
    "    print(\"Line 1 is not parallel with Line 2 because both have not same slope\")     \n"
   ]
  },
  {
   "cell_type": "markdown",
   "metadata": {},
   "source": [
    "## Q2- Solution"
   ]
  },
  {
   "cell_type": "code",
   "execution_count": 13,
   "metadata": {},
   "outputs": [
    {
     "name": "stdout",
     "output_type": "stream",
     "text": [
      "Program of Armstrong No.\n"
     ]
    },
    {
     "name": "stdin",
     "output_type": "stream",
     "text": [
      "Enter a no. 555\n"
     ]
    },
    {
     "name": "stdout",
     "output_type": "stream",
     "text": [
      "555  is not a armstrong no.\n"
     ]
    }
   ],
   "source": [
    "print(\"Program of Armstrong No.\")\n",
    "n=int(input(\"Enter a no.\"))\n",
    "n1=n\n",
    "Sum=0\n",
    "while n>0:\n",
    "    rem=n%10  #gives the once place digit\n",
    "    Sum=Sum+rem**3\n",
    "    n=n//10\n",
    "\n",
    "if Sum==n1:\n",
    "    print(n1,\" is a armstrong no.\")\n",
    "else: \n",
    "    print(n1,\" is not a armstrong no.\")"
   ]
  },
  {
   "cell_type": "markdown",
   "metadata": {},
   "source": [
    "## Q3- Solution"
   ]
  },
  {
   "cell_type": "code",
   "execution_count": 16,
   "metadata": {},
   "outputs": [
    {
     "name": "stdin",
     "output_type": "stream",
     "text": [
      "Enter an year no. 2019\n"
     ]
    },
    {
     "name": "stdout",
     "output_type": "stream",
     "text": [
      "2019 is not a leap year\n"
     ]
    }
   ],
   "source": [
    "n=int(input(\"Enter an year no.\"))\n",
    "if n % 4 == 0:\n",
    "    print(str(n)+\" is a leap year\")\n",
    "else:\n",
    "    print(str(n)+\" is not a leap year\")"
   ]
  },
  {
   "cell_type": "markdown",
   "metadata": {},
   "source": [
    "## Q4- Solution"
   ]
  },
  {
   "cell_type": "code",
   "execution_count": 48,
   "metadata": {},
   "outputs": [
    {
     "name": "stdout",
     "output_type": "stream",
     "text": [
      "Program to print L C O in vertical\n",
      "*****\n",
      "\n",
      "*****\n",
      "\n",
      "*****\n",
      "\n",
      "********************\n",
      "\n",
      "********************\n",
      "\n",
      "\n",
      "\n",
      "********************\n",
      "\n",
      "********************\n",
      "\n",
      "*****\n",
      "\n",
      "********************\n",
      "\n",
      "********************\n",
      "\n",
      "\n",
      "\n",
      "********************\n",
      "\n",
      "********************\n",
      "\n",
      "*****          *****\n",
      "\n",
      "*****          *****\n",
      "\n",
      "********************\n",
      "\n",
      "********************\n",
      "\n"
     ]
    }
   ],
   "source": [
    "print(\"Program to print L C O in vertical\")\n",
    "# For L\n",
    "for row in range(0,5):\n",
    "    for col in range(0,5):\n",
    "        print(\"*\",end='')\n",
    "        if row== 4 or row == 3:\n",
    "            print(\"***\",end='')\n",
    "    print(\"\\n\")\n",
    "print(\"\\n\")\n",
    "# For C\n",
    "for row in range(0,5):\n",
    "    for col in range(0,5):\n",
    "        if row== 0 or row == 1:\n",
    "            print(\"***\",end='')\n",
    "        print(\"*\",end='')    \n",
    "        if row== 4 or row == 3:\n",
    "            print(\"***\",end='')\n",
    "    print(\"\\n\")\n",
    "    \n",
    "# For O\n",
    "print(\"\\n\")\n",
    "for row in range(0,2):\n",
    "    for col in range(0,5):\n",
    "        print(\"*\"*4,end='')\n",
    "    print(\"\\n\")\n",
    "\n",
    "for row in range(0,2):\n",
    "    for col in range(0,3):\n",
    "        if col==0 or col==2:\n",
    "            print(\"*\"*5,end='')\n",
    "        else:\n",
    "            print(\" \"*10,end='')    \n",
    "    print(\"\\n\")\n",
    "\n",
    "for row in range(0,2):\n",
    "    for col in range(0,5):\n",
    "        print(\"*\"*4,end='')\n",
    "    print(\"\\n\")\n",
    "    \n",
    "    "
   ]
  },
  {
   "cell_type": "code",
   "execution_count": 15,
   "metadata": {},
   "outputs": [
    {
     "name": "stdin",
     "output_type": "stream",
     "text": [
      "Enter values of a & b 4 5\n"
     ]
    },
    {
     "name": "stdout",
     "output_type": "stream",
     "text": [
      "4\n",
      "5\n"
     ]
    },
    {
     "data": {
      "text/plain": [
       "'5'"
      ]
     },
     "execution_count": 15,
     "metadata": {},
     "output_type": "execute_result"
    }
   ],
   "source": [
    "#takes two inputs in a single line\n",
    "a,b=input(\"Enter values of a & b\").split()\n",
    "print(a)\n",
    "print(b)"
   ]
  },
  {
   "cell_type": "markdown",
   "metadata": {},
   "source": [
    "## Q5- Solution"
   ]
  },
  {
   "cell_type": "code",
   "execution_count": 23,
   "metadata": {},
   "outputs": [
    {
     "name": "stdout",
     "output_type": "stream",
     "text": [
      "66\n",
      "6\n",
      "99\n",
      "47\n",
      "25\n",
      "31\n",
      "46\n",
      "33\n",
      "65\n",
      "96\n",
      "98\n",
      "13\n",
      "85\n",
      "69\n",
      "17\n",
      "80\n",
      "95\n",
      "17\n",
      "52\n",
      "61\n",
      "18\n",
      "88\n",
      "21\n",
      "96\n",
      "19\n",
      "28\n",
      "15\n",
      "67\n",
      "39\n",
      "12\n",
      "87\n",
      "53\n",
      "17\n",
      "75\n",
      "45\n",
      "44\n",
      "28\n",
      "67\n",
      "46\n",
      "63\n",
      "87\n",
      "42\n",
      "70\n",
      "34\n",
      "38\n",
      "78\n",
      "54\n",
      "74\n",
      "27\n",
      "82\n",
      "52\n",
      "2\n",
      "31\n",
      "25\n",
      "54\n",
      "90\n",
      "81\n",
      "91\n",
      "55\n",
      "65\n",
      "91\n",
      "62\n",
      "94\n",
      "29\n",
      "71\n",
      "2\n",
      "88\n",
      "12\n",
      "36\n",
      "18\n",
      "13\n",
      "67\n",
      "32\n",
      "74\n",
      "101\n",
      "76\n",
      "69\n",
      "95\n",
      "97\n",
      "13\n",
      "72\n",
      "66\n",
      "100\n",
      "65\n",
      "44\n",
      "36\n",
      "78\n",
      "47\n",
      "91\n",
      "55\n",
      "16\n",
      "57\n",
      "87\n",
      "42\n",
      "80\n",
      "95\n",
      "52\n",
      "44\n",
      "46\n",
      "66\n"
     ]
    },
    {
     "data": {
      "text/plain": [
       "[0.0,\n",
       " 0.4239389321242767,\n",
       " 0.5510409786997623,\n",
       " 0.7287122380281119,\n",
       " 2.558954661446391,\n",
       " 2.0464189407659923,\n",
       " 0.28896846198231874,\n",
       " 3.69550959477708,\n",
       " 5.588056972870387,\n",
       " 1.2399938762656353,\n",
       " 2.9810945775018096,\n",
       " 4.136874676318624,\n",
       " 1.555405494122684,\n",
       " 11.000945682288394,\n",
       " 8.200830609954199,\n",
       " 11.752433887665536,\n",
       " 4.157704877358196,\n",
       " 3.0805217765435904,\n",
       " 10.353467607246783,\n",
       " 17.287883503755296,\n",
       " 1.4907867876519165,\n",
       " 16.528702762491058,\n",
       " 16.95120928111868,\n",
       " 19.083349015822535,\n",
       " 12.41894896893453,\n",
       " 11.35244833519255,\n",
       " 9.28341309770699,\n",
       " 14.596367561197626,\n",
       " 5.719842456906147,\n",
       " 11.26061311603398,\n",
       " 15.067645014953618,\n",
       " 9.22365815195464,\n",
       " 21.36766822639525,\n",
       " 22.593897532228965,\n",
       " 5.99698759958169,\n",
       " 30.60479601498185,\n",
       " 10.151136883421469,\n",
       " 25.233211098745333,\n",
       " 14.617895563431896,\n",
       " 38.02825451073539,\n",
       " 12.318922948286879,\n",
       " 5.235724425711811,\n",
       " 32.866890894150124,\n",
       " 16.428426792744855,\n",
       " 12.031444344604845,\n",
       " 33.21970502127898,\n",
       " 34.8482553715755,\n",
       " 26.341397079541153,\n",
       " 11.06563816397993,\n",
       " 18.24956060839651,\n",
       " 3.836201190565547,\n",
       " 38.073578394622814,\n",
       " 6.571352196341872,\n",
       " 24.189599278755676,\n",
       " 15.001498185017061,\n",
       " 41.45321605897017,\n",
       " 17.36035755650794,\n",
       " 41.72364115718645,\n",
       " 40.01377462904508,\n",
       " 20.630752400295194,\n",
       " 8.162975547629845,\n",
       " 30.292874547461135,\n",
       " 56.88495450942252,\n",
       " 11.971972551885253,\n",
       " 17.74318434809993,\n",
       " 46.511374803478844,\n",
       " 39.97938587136162,\n",
       " 1.5567518679019572,\n",
       " 57.516915106042,\n",
       " 45.75068258369591,\n",
       " 31.164762398151804,\n",
       " 50.59761787769923,\n",
       " 41.83905822007817,\n",
       " 50.1422655489941,\n",
       " 4.140423525847215,\n",
       " 18.82677112957819,\n",
       " 6.924247523079693,\n",
       " 47.84628269032289,\n",
       " 68.23529707690459,\n",
       " 25.434924177575365,\n",
       " 40.55755913150265,\n",
       " 42.166166392616006,\n",
       " 17.766913133854402,\n",
       " 24.231899315688494,\n",
       " 19.36195142139892,\n",
       " 59.20243019402134,\n",
       " 76.6710399769329,\n",
       " 64.28765708321016,\n",
       " 49.15099289007282,\n",
       " 19.711471777276476,\n",
       " 44.75473771095506,\n",
       " 68.88549893935458,\n",
       " 87.55134842863684,\n",
       " 78.41646635569565,\n",
       " 85.91933675415981,\n",
       " 9.550618396279523,\n",
       " 36.30440135171392,\n",
       " 58.27897584692868,\n",
       " 74.19354536103104,\n",
       " 31.953982209879218]"
      ]
     },
     "execution_count": 23,
     "metadata": {},
     "output_type": "execute_result"
    }
   ],
   "source": [
    "# Method 1\n",
    "import random \n",
    "for x in range(100):\n",
    "  print(random.randint(1,101))\n",
    "\n",
    "# Method 2\n",
    "[i*(random.random()) for i in range(100)]"
   ]
  },
  {
   "cell_type": "code",
   "execution_count": null,
   "metadata": {},
   "outputs": [],
   "source": []
  }
 ],
 "metadata": {
  "kernelspec": {
   "display_name": "Python 3",
   "language": "python",
   "name": "python3"
  },
  "language_info": {
   "codemirror_mode": {
    "name": "ipython",
    "version": 3
   },
   "file_extension": ".py",
   "mimetype": "text/x-python",
   "name": "python",
   "nbconvert_exporter": "python",
   "pygments_lexer": "ipython3",
   "version": "3.7.3"
  }
 },
 "nbformat": 4,
 "nbformat_minor": 2
}
